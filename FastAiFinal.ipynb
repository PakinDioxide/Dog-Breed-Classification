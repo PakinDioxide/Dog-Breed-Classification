{
  "cells": [
    {
      "cell_type": "markdown",
      "metadata": {
        "id": "1dAIofAT6Bmc"
      },
      "source": [
        "# Train Set"
      ]
    },
    {
      "cell_type": "code",
      "execution_count": null,
      "metadata": {
        "id": "JG4loL3I59pF"
      },
      "outputs": [],
      "source": [
        "import os\n",
        "import os.path as op\n",
        "import shutil\n",
        "from glob import glob\n",
        "import pandas as pd\n",
        "import numpy as np\n",
        "import matplotlib.pyplot as plt\n",
        "from tqdm.auto import tqdm\n",
        "\n",
        "from torchvision import datasets, models, transforms\n",
        "from torch.utils.data import DataLoader\n",
        "from sklearn.model_selection import train_test_split"
      ]
    },
    {
      "cell_type": "code",
      "execution_count": null,
      "metadata": {
        "id": "nkXk_N7W7mVW"
      },
      "outputs": [],
      "source": [
        "!git clone 'https://github.com/PakinDioxide/Dog-Breed-Classification.git'"
      ]
    },
    {
      "cell_type": "code",
      "execution_count": null,
      "metadata": {
        "id": "RLVfSJxKp_NR"
      },
      "outputs": [],
      "source": [
        "path = '/content/Dog-Breed-Classification/images/'"
      ]
    },
    {
      "cell_type": "code",
      "execution_count": null,
      "metadata": {
        "id": "T4TngAmwq42G"
      },
      "outputs": [],
      "source": [
        "!pip install -q fastbook"
      ]
    },
    {
      "cell_type": "code",
      "execution_count": null,
      "metadata": {
        "id": "JwZVVK2grHA6"
      },
      "outputs": [],
      "source": [
        "from fastbook import *"
      ]
    },
    {
      "cell_type": "code",
      "execution_count": null,
      "metadata": {
        "id": "tScBDWtbrdWe"
      },
      "outputs": [],
      "source": [
        "fields = DataBlock(\n",
        "    blocks=(ImageBlock, CategoryBlock),\n",
        "    get_items=get_image_files,\n",
        "    get_y=parent_label,\n",
        "    splitter=RandomSplitter(valid_pct=0.2, seed=42),\n",
        "    item_tfms=Resize(224),\n",
        "    batch_tfms=aug_transforms()\n",
        ")"
      ]
    },
    {
      "cell_type": "code",
      "execution_count": null,
      "metadata": {
        "id": "FZf1MyI7r5oX"
      },
      "outputs": [],
      "source": [
        "dls = fields.dataloaders(f\"{path}train\", bs=64)"
      ]
    },
    {
      "cell_type": "code",
      "execution_count": null,
      "metadata": {
        "id": "Lks17aPDsIKh"
      },
      "outputs": [],
      "source": [
        "dls.vocab"
      ]
    },
    {
      "cell_type": "code",
      "execution_count": null,
      "metadata": {
        "id": "Ow-YaLxUsMv1"
      },
      "outputs": [],
      "source": [
        "dls.train.show_batch()"
      ]
    },
    {
      "cell_type": "code",
      "execution_count": null,
      "metadata": {
        "id": "zZDiDQClsPIb"
      },
      "outputs": [],
      "source": [
        "learner = vision_learner(dls, resnet50, metrics=[error_rate, accuracy])"
      ]
    },
    {
      "cell_type": "code",
      "execution_count": null,
      "metadata": {
        "id": "JD6hXH3_tah4"
      },
      "outputs": [],
      "source": [
        "learner.lr_find()"
      ]
    },
    {
      "cell_type": "code",
      "execution_count": null,
      "metadata": {
        "id": "uBKCup7rtdrH"
      },
      "outputs": [],
      "source": [
        "learner.fine_tune(epochs=10, base_lr=0.0010000000474974513, freeze_epochs=1)"
      ]
    },
    {
      "cell_type": "code",
      "execution_count": null,
      "metadata": {
        "id": "hX_Uj7z26FJ9"
      },
      "outputs": [],
      "source": [
        "interp = ClassificationInterpretation.from_learner(learner)"
      ]
    },
    {
      "cell_type": "code",
      "execution_count": null,
      "metadata": {
        "id": "0QzLdBN8mEbG"
      },
      "outputs": [],
      "source": [
        "interp.print_classification_report()"
      ]
    },
    {
      "cell_type": "code",
      "source": [
        "interp.plot_confusion_matrix(figsize=(50,50))"
      ],
      "metadata": {
        "id": "C1wtAC-qT7ag"
      },
      "execution_count": null,
      "outputs": []
    },
    {
      "cell_type": "code",
      "execution_count": null,
      "metadata": {
        "id": "S0rGDR8Ptxbc"
      },
      "outputs": [],
      "source": [
        "interp.most_confused(min_val=5)"
      ]
    },
    {
      "cell_type": "code",
      "execution_count": null,
      "metadata": {
        "id": "dPilYYoz53qi"
      },
      "outputs": [],
      "source": [
        "learner.show_results(shuffle=True)"
      ]
    },
    {
      "cell_type": "code",
      "execution_count": null,
      "metadata": {
        "id": "zx1TnPXF6gff"
      },
      "outputs": [],
      "source": [
        "learner.export(\"dbc_resnet50_new_fastai.pkl\")"
      ]
    },
    {
      "cell_type": "markdown",
      "metadata": {
        "id": "hEZeiGWZTiDK"
      },
      "source": [
        "# Test Set Prediction"
      ]
    },
    {
      "cell_type": "code",
      "source": [
        "!git clone 'https://github.com/PakinDioxide/Dog-Breed-Classification.git'"
      ],
      "metadata": {
        "id": "xsFvdZ5RjApO"
      },
      "execution_count": null,
      "outputs": []
    },
    {
      "cell_type": "code",
      "execution_count": null,
      "metadata": {
        "id": "xuYkJrViUfwt"
      },
      "outputs": [],
      "source": [
        "!pip install -q fastbook"
      ]
    },
    {
      "cell_type": "code",
      "execution_count": null,
      "metadata": {
        "id": "G1rmKO5sTlN9"
      },
      "outputs": [],
      "source": [
        "from fastbook import *\n",
        "from google.colab import files\n",
        "from IPython.display import Image\n",
        "from IPython.display import HTML"
      ]
    },
    {
      "cell_type": "code",
      "execution_count": null,
      "metadata": {
        "id": "kBthZHmtUd-0"
      },
      "outputs": [],
      "source": [
        "dblock2 = DataBlock(\n",
        "    blocks=(ImageBlock, CategoryBlock), #x - image; y - single class\n",
        "    get_items=get_image_files, #get image\n",
        "    splitter=GrandparentSplitter(valid_name='test'), #use parent folder as train-test split\n",
        "    get_y=parent_label, #use parent folder as label\n",
        "    item_tfms=Resize(224)\n",
        "    )\n",
        "dls2 = dblock2.dataloaders('/content/Dog-Breed-Classification/images/', bs=64) #batch size = 64"
      ]
    },
    {
      "cell_type": "code",
      "execution_count": null,
      "metadata": {
        "id": "2DQnQbzbVx_f"
      },
      "outputs": [],
      "source": [
        "dls2.vocab"
      ]
    },
    {
      "cell_type": "code",
      "execution_count": null,
      "metadata": {
        "id": "lhI2dEYdKxSo"
      },
      "outputs": [],
      "source": [
        "import torch\n",
        "\n",
        "# Load the exported FastAI .pkl model\n",
        "pkl_model_path = '/content/Dog-Breed-Classification/models/dbc_resnet50_new_fastai.pkl'\n",
        "fastai_learner = torch.load(pkl_model_path, map_location=torch.device('cpu'))\n",
        "\n",
        "# Extract the PyTorch model from the FastAI Learner\n",
        "pytorch_model = fastai_learner.model\n",
        "\n",
        "# Save the PyTorch model in .pth format\n",
        "pth_model_path = '/content/Dog-Breed-Classification/models/dbc_resnet50_new_fastai.pth'\n",
        "torch.save(pytorch_model.state_dict(), pth_model_path)\n"
      ]
    },
    {
      "cell_type": "code",
      "execution_count": null,
      "metadata": {
        "id": "MXYAfurAbvbW"
      },
      "outputs": [],
      "source": [
        "learn = cnn_learner(dls2, resnet50, metrics=error_rate)"
      ]
    },
    {
      "cell_type": "code",
      "source": [
        "interp = ClassificationInterpretation.from_learner(learn.load('/content/Dog-Breed-Classification/models/dbc_resnet50_new_fastai'))\n",
        "interp.plot_confusion_matrix(figsize=(50,50))"
      ],
      "metadata": {
        "id": "58Mi5AB0PRBX"
      },
      "execution_count": null,
      "outputs": []
    },
    {
      "cell_type": "code",
      "execution_count": null,
      "metadata": {
        "id": "wfkYw3CnhX8Q"
      },
      "outputs": [],
      "source": [
        "interp.print_classification_report()"
      ]
    },
    {
      "cell_type": "markdown",
      "metadata": {
        "id": "wNxVKklMv3wT"
      },
      "source": [
        "# Single Image Prediction"
      ]
    },
    {
      "cell_type": "code",
      "execution_count": null,
      "metadata": {
        "id": "3NeC0sZ-v502"
      },
      "outputs": [],
      "source": [
        "!pip install fastbook"
      ]
    },
    {
      "cell_type": "code",
      "execution_count": null,
      "metadata": {
        "id": "P_TzCAcawPbD"
      },
      "outputs": [],
      "source": [
        "from fastbook import *\n",
        "from PIL import Image"
      ]
    },
    {
      "cell_type": "code",
      "execution_count": null,
      "metadata": {
        "id": "v8yJoXCNwS_o"
      },
      "outputs": [],
      "source": [
        "learn = load_learner('/content/dbc_resnet50_new_fastai.pkl')"
      ]
    },
    {
      "cell_type": "code",
      "execution_count": null,
      "metadata": {
        "id": "vr7Gp3Kx0wpS"
      },
      "outputs": [],
      "source": [
        "img = Image.open('/content/image.png')\n",
        "img.resize([224, 224])"
      ]
    },
    {
      "cell_type": "code",
      "execution_count": null,
      "metadata": {
        "id": "nfm8_SOiv43L"
      },
      "outputs": [],
      "source": [
        "learn.predict(img)"
      ]
    }
  ],
  "metadata": {
    "accelerator": "GPU",
    "colab": {
      "provenance": []
    },
    "kernelspec": {
      "display_name": "Python 3",
      "name": "python3"
    },
    "language_info": {
      "name": "python"
    }
  },
  "nbformat": 4,
  "nbformat_minor": 0
}