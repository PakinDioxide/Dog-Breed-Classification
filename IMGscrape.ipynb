{
 "cells": [
  {
   "cell_type": "code",
   "execution_count": 1,
   "id": "2bedf440",
   "metadata": {
    "scrolled": true
   },
   "outputs": [
    {
     "name": "stdout",
     "output_type": "stream",
     "text": [
      "Requirement already satisfied: jmd-imagescraper in c:\\users\\young\\anaconda3\\lib\\site-packages (1.0.2)\n",
      "Requirement already satisfied: ipywidgets in c:\\users\\young\\anaconda3\\lib\\site-packages (from jmd-imagescraper) (7.6.5)\n",
      "Requirement already satisfied: Pillow in c:\\users\\young\\anaconda3\\lib\\site-packages (from jmd-imagescraper) (9.5.0)\n",
      "Requirement already satisfied: requests in c:\\users\\young\\anaconda3\\lib\\site-packages (from jmd-imagescraper) (2.28.1)\n",
      "Requirement already satisfied: pandas in c:\\users\\young\\anaconda3\\lib\\site-packages (from jmd-imagescraper) (1.4.4)\n",
      "Requirement already satisfied: pathlib in c:\\users\\young\\anaconda3\\lib\\site-packages (from jmd-imagescraper) (1.0.1)\n",
      "Requirement already satisfied: bs4 in c:\\users\\young\\anaconda3\\lib\\site-packages (from jmd-imagescraper) (0.0.1)\n",
      "Requirement already satisfied: fastprogress in c:\\users\\young\\anaconda3\\lib\\site-packages (from jmd-imagescraper) (1.0.3)\n",
      "Requirement already satisfied: beautifulsoup4 in c:\\users\\young\\anaconda3\\lib\\site-packages (from bs4->jmd-imagescraper) (4.11.1)\n",
      "Requirement already satisfied: nbformat>=4.2.0 in c:\\users\\young\\anaconda3\\lib\\site-packages (from ipywidgets->jmd-imagescraper) (5.5.0)\n",
      "Requirement already satisfied: ipython>=4.0.0 in c:\\users\\young\\anaconda3\\lib\\site-packages (from ipywidgets->jmd-imagescraper) (7.31.1)\n",
      "Requirement already satisfied: traitlets>=4.3.1 in c:\\users\\young\\anaconda3\\lib\\site-packages (from ipywidgets->jmd-imagescraper) (5.1.1)\n",
      "Requirement already satisfied: widgetsnbextension~=3.5.0 in c:\\users\\young\\anaconda3\\lib\\site-packages (from ipywidgets->jmd-imagescraper) (3.5.2)\n",
      "Requirement already satisfied: jupyterlab-widgets>=1.0.0 in c:\\users\\young\\anaconda3\\lib\\site-packages (from ipywidgets->jmd-imagescraper) (1.0.0)\n",
      "Requirement already satisfied: ipykernel>=4.5.1 in c:\\users\\young\\anaconda3\\lib\\site-packages (from ipywidgets->jmd-imagescraper) (6.15.2)\n",
      "Requirement already satisfied: ipython-genutils~=0.2.0 in c:\\users\\young\\anaconda3\\lib\\site-packages (from ipywidgets->jmd-imagescraper) (0.2.0)\n",
      "Requirement already satisfied: numpy>=1.18.5 in c:\\users\\young\\anaconda3\\lib\\site-packages (from pandas->jmd-imagescraper) (1.24.3)\n",
      "Requirement already satisfied: pytz>=2020.1 in c:\\users\\young\\anaconda3\\lib\\site-packages (from pandas->jmd-imagescraper) (2022.1)\n",
      "Requirement already satisfied: python-dateutil>=2.8.1 in c:\\users\\young\\anaconda3\\lib\\site-packages (from pandas->jmd-imagescraper) (2.8.2)\n",
      "Requirement already satisfied: charset-normalizer<3,>=2 in c:\\users\\young\\anaconda3\\lib\\site-packages (from requests->jmd-imagescraper) (2.0.4)\n",
      "Requirement already satisfied: idna<4,>=2.5 in c:\\users\\young\\anaconda3\\lib\\site-packages (from requests->jmd-imagescraper) (3.3)\n",
      "Requirement already satisfied: certifi>=2017.4.17 in c:\\users\\young\\anaconda3\\lib\\site-packages (from requests->jmd-imagescraper) (2022.9.14)\n",
      "Requirement already satisfied: urllib3<1.27,>=1.21.1 in c:\\users\\young\\anaconda3\\lib\\site-packages (from requests->jmd-imagescraper) (1.26.11)\n",
      "Requirement already satisfied: jupyter-client>=6.1.12 in c:\\users\\young\\anaconda3\\lib\\site-packages (from ipykernel>=4.5.1->ipywidgets->jmd-imagescraper) (7.3.4)\n",
      "Requirement already satisfied: nest-asyncio in c:\\users\\young\\anaconda3\\lib\\site-packages (from ipykernel>=4.5.1->ipywidgets->jmd-imagescraper) (1.5.5)\n",
      "Requirement already satisfied: psutil in c:\\users\\young\\anaconda3\\lib\\site-packages (from ipykernel>=4.5.1->ipywidgets->jmd-imagescraper) (5.9.0)\n",
      "Requirement already satisfied: tornado>=6.1 in c:\\users\\young\\anaconda3\\lib\\site-packages (from ipykernel>=4.5.1->ipywidgets->jmd-imagescraper) (6.1)\n",
      "Requirement already satisfied: matplotlib-inline>=0.1 in c:\\users\\young\\anaconda3\\lib\\site-packages (from ipykernel>=4.5.1->ipywidgets->jmd-imagescraper) (0.1.6)\n",
      "Requirement already satisfied: debugpy>=1.0 in c:\\users\\young\\anaconda3\\lib\\site-packages (from ipykernel>=4.5.1->ipywidgets->jmd-imagescraper) (1.5.1)\n",
      "Requirement already satisfied: pyzmq>=17 in c:\\users\\young\\anaconda3\\lib\\site-packages (from ipykernel>=4.5.1->ipywidgets->jmd-imagescraper) (23.2.0)\n",
      "Requirement already satisfied: packaging in c:\\users\\young\\anaconda3\\lib\\site-packages (from ipykernel>=4.5.1->ipywidgets->jmd-imagescraper) (21.3)\n",
      "Requirement already satisfied: setuptools>=18.5 in c:\\users\\young\\anaconda3\\lib\\site-packages (from ipython>=4.0.0->ipywidgets->jmd-imagescraper) (63.4.1)\n",
      "Requirement already satisfied: pickleshare in c:\\users\\young\\anaconda3\\lib\\site-packages (from ipython>=4.0.0->ipywidgets->jmd-imagescraper) (0.7.5)\n",
      "Requirement already satisfied: colorama in c:\\users\\young\\anaconda3\\lib\\site-packages (from ipython>=4.0.0->ipywidgets->jmd-imagescraper) (0.4.6)\n",
      "Requirement already satisfied: jedi>=0.16 in c:\\users\\young\\anaconda3\\lib\\site-packages (from ipython>=4.0.0->ipywidgets->jmd-imagescraper) (0.18.1)\n",
      "Requirement already satisfied: decorator in c:\\users\\young\\anaconda3\\lib\\site-packages (from ipython>=4.0.0->ipywidgets->jmd-imagescraper) (5.1.1)\n",
      "Requirement already satisfied: prompt-toolkit!=3.0.0,!=3.0.1,<3.1.0,>=2.0.0 in c:\\users\\young\\anaconda3\\lib\\site-packages (from ipython>=4.0.0->ipywidgets->jmd-imagescraper) (3.0.20)\n",
      "Requirement already satisfied: pygments in c:\\users\\young\\anaconda3\\lib\\site-packages (from ipython>=4.0.0->ipywidgets->jmd-imagescraper) (2.14.0)\n",
      "Requirement already satisfied: backcall in c:\\users\\young\\anaconda3\\lib\\site-packages (from ipython>=4.0.0->ipywidgets->jmd-imagescraper) (0.2.0)\n",
      "Requirement already satisfied: jsonschema>=2.6 in c:\\users\\young\\anaconda3\\lib\\site-packages (from nbformat>=4.2.0->ipywidgets->jmd-imagescraper) (4.16.0)\n",
      "Requirement already satisfied: fastjsonschema in c:\\users\\young\\anaconda3\\lib\\site-packages (from nbformat>=4.2.0->ipywidgets->jmd-imagescraper) (2.16.2)\n",
      "Requirement already satisfied: jupyter_core in c:\\users\\young\\anaconda3\\lib\\site-packages (from nbformat>=4.2.0->ipywidgets->jmd-imagescraper) (4.11.1)\n",
      "Requirement already satisfied: six>=1.5 in c:\\users\\young\\anaconda3\\lib\\site-packages (from python-dateutil>=2.8.1->pandas->jmd-imagescraper) (1.16.0)\n",
      "Requirement already satisfied: notebook>=4.4.1 in c:\\users\\young\\anaconda3\\lib\\site-packages (from widgetsnbextension~=3.5.0->ipywidgets->jmd-imagescraper) (6.4.12)\n",
      "Requirement already satisfied: soupsieve>1.2 in c:\\users\\young\\anaconda3\\lib\\site-packages (from beautifulsoup4->bs4->jmd-imagescraper) (2.3.1)\n",
      "Requirement already satisfied: parso<0.9.0,>=0.8.0 in c:\\users\\young\\anaconda3\\lib\\site-packages (from jedi>=0.16->ipython>=4.0.0->ipywidgets->jmd-imagescraper) (0.8.3)\n",
      "Requirement already satisfied: attrs>=17.4.0 in c:\\users\\young\\anaconda3\\lib\\site-packages (from jsonschema>=2.6->nbformat>=4.2.0->ipywidgets->jmd-imagescraper) (21.4.0)\n",
      "Requirement already satisfied: pyrsistent!=0.17.0,!=0.17.1,!=0.17.2,>=0.14.0 in c:\\users\\young\\anaconda3\\lib\\site-packages (from jsonschema>=2.6->nbformat>=4.2.0->ipywidgets->jmd-imagescraper) (0.18.0)\n",
      "Requirement already satisfied: entrypoints in c:\\users\\young\\anaconda3\\lib\\site-packages (from jupyter-client>=6.1.12->ipykernel>=4.5.1->ipywidgets->jmd-imagescraper) (0.4)\n",
      "Requirement already satisfied: pywin32>=1.0 in c:\\users\\young\\anaconda3\\lib\\site-packages (from jupyter_core->nbformat>=4.2.0->ipywidgets->jmd-imagescraper) (302)\n",
      "Requirement already satisfied: jinja2 in c:\\users\\young\\anaconda3\\lib\\site-packages (from notebook>=4.4.1->widgetsnbextension~=3.5.0->ipywidgets->jmd-imagescraper) (2.11.3)\n",
      "Requirement already satisfied: argon2-cffi in c:\\users\\young\\anaconda3\\lib\\site-packages (from notebook>=4.4.1->widgetsnbextension~=3.5.0->ipywidgets->jmd-imagescraper) (21.3.0)\n",
      "Requirement already satisfied: terminado>=0.8.3 in c:\\users\\young\\anaconda3\\lib\\site-packages (from notebook>=4.4.1->widgetsnbextension~=3.5.0->ipywidgets->jmd-imagescraper) (0.13.1)\n",
      "Requirement already satisfied: prometheus-client in c:\\users\\young\\anaconda3\\lib\\site-packages (from notebook>=4.4.1->widgetsnbextension~=3.5.0->ipywidgets->jmd-imagescraper) (0.14.1)\n",
      "Requirement already satisfied: Send2Trash>=1.8.0 in c:\\users\\young\\anaconda3\\lib\\site-packages (from notebook>=4.4.1->widgetsnbextension~=3.5.0->ipywidgets->jmd-imagescraper) (1.8.0)\n",
      "Requirement already satisfied: nbconvert>=5 in c:\\users\\young\\anaconda3\\lib\\site-packages (from notebook>=4.4.1->widgetsnbextension~=3.5.0->ipywidgets->jmd-imagescraper) (6.4.4)\n",
      "Requirement already satisfied: wcwidth in c:\\users\\young\\anaconda3\\lib\\site-packages (from prompt-toolkit!=3.0.0,!=3.0.1,<3.1.0,>=2.0.0->ipython>=4.0.0->ipywidgets->jmd-imagescraper) (0.2.5)\n",
      "Requirement already satisfied: pyparsing!=3.0.5,>=2.0.2 in c:\\users\\young\\anaconda3\\lib\\site-packages (from packaging->ipykernel>=4.5.1->ipywidgets->jmd-imagescraper) (3.0.9)\n",
      "Requirement already satisfied: defusedxml in c:\\users\\young\\anaconda3\\lib\\site-packages (from nbconvert>=5->notebook>=4.4.1->widgetsnbextension~=3.5.0->ipywidgets->jmd-imagescraper) (0.7.1)\n",
      "Requirement already satisfied: jupyterlab-pygments in c:\\users\\young\\anaconda3\\lib\\site-packages (from nbconvert>=5->notebook>=4.4.1->widgetsnbextension~=3.5.0->ipywidgets->jmd-imagescraper) (0.1.2)\n",
      "Requirement already satisfied: nbclient<0.6.0,>=0.5.0 in c:\\users\\young\\anaconda3\\lib\\site-packages (from nbconvert>=5->notebook>=4.4.1->widgetsnbextension~=3.5.0->ipywidgets->jmd-imagescraper) (0.5.13)\n",
      "Requirement already satisfied: testpath in c:\\users\\young\\anaconda3\\lib\\site-packages (from nbconvert>=5->notebook>=4.4.1->widgetsnbextension~=3.5.0->ipywidgets->jmd-imagescraper) (0.6.0)\n",
      "Requirement already satisfied: mistune<2,>=0.8.1 in c:\\users\\young\\anaconda3\\lib\\site-packages (from nbconvert>=5->notebook>=4.4.1->widgetsnbextension~=3.5.0->ipywidgets->jmd-imagescraper) (0.8.4)\n",
      "Requirement already satisfied: bleach in c:\\users\\young\\anaconda3\\lib\\site-packages (from nbconvert>=5->notebook>=4.4.1->widgetsnbextension~=3.5.0->ipywidgets->jmd-imagescraper) (4.1.0)\n",
      "Requirement already satisfied: pandocfilters>=1.4.1 in c:\\users\\young\\anaconda3\\lib\\site-packages (from nbconvert>=5->notebook>=4.4.1->widgetsnbextension~=3.5.0->ipywidgets->jmd-imagescraper) (1.5.0)\n",
      "Requirement already satisfied: MarkupSafe>=0.23 in c:\\users\\young\\anaconda3\\lib\\site-packages (from jinja2->notebook>=4.4.1->widgetsnbextension~=3.5.0->ipywidgets->jmd-imagescraper) (2.0.1)\n",
      "Requirement already satisfied: pywinpty>=1.1.0 in c:\\users\\young\\anaconda3\\lib\\site-packages (from terminado>=0.8.3->notebook>=4.4.1->widgetsnbextension~=3.5.0->ipywidgets->jmd-imagescraper) (2.0.2)\n",
      "Requirement already satisfied: argon2-cffi-bindings in c:\\users\\young\\anaconda3\\lib\\site-packages (from argon2-cffi->notebook>=4.4.1->widgetsnbextension~=3.5.0->ipywidgets->jmd-imagescraper) (21.2.0)\n",
      "Requirement already satisfied: cffi>=1.0.1 in c:\\users\\young\\anaconda3\\lib\\site-packages (from argon2-cffi-bindings->argon2-cffi->notebook>=4.4.1->widgetsnbextension~=3.5.0->ipywidgets->jmd-imagescraper) (1.15.1)\n",
      "Requirement already satisfied: webencodings in c:\\users\\young\\anaconda3\\lib\\site-packages (from bleach->nbconvert>=5->notebook>=4.4.1->widgetsnbextension~=3.5.0->ipywidgets->jmd-imagescraper) (0.5.1)\n",
      "Requirement already satisfied: pycparser in c:\\users\\young\\anaconda3\\lib\\site-packages (from cffi>=1.0.1->argon2-cffi-bindings->argon2-cffi->notebook>=4.4.1->widgetsnbextension~=3.5.0->ipywidgets->jmd-imagescraper) (2.21)\n"
     ]
    },
    {
     "name": "stdout",
     "output_type": "stream",
     "text": [
      "Requirement already satisfied: fastbook in c:\\users\\young\\anaconda3\\lib\\site-packages (0.0.29)\n",
      "Requirement already satisfied: fastai>=2.6 in c:\\users\\young\\anaconda3\\lib\\site-packages (from fastbook) (2.7.12)\n",
      "Requirement already satisfied: ipywidgets<8 in c:\\users\\young\\anaconda3\\lib\\site-packages (from fastbook) (7.6.5)\n",
      "Requirement already satisfied: requests in c:\\users\\young\\anaconda3\\lib\\site-packages (from fastbook) (2.28.1)\n",
      "Requirement already satisfied: sentencepiece in c:\\users\\young\\anaconda3\\lib\\site-packages (from fastbook) (0.1.97)\n",
      "Requirement already satisfied: datasets in c:\\users\\young\\anaconda3\\lib\\site-packages (from fastbook) (2.11.0)\n",
      "Requirement already satisfied: graphviz in c:\\users\\young\\anaconda3\\lib\\site-packages (from fastbook) (0.20.1)\n",
      "Requirement already satisfied: transformers in c:\\users\\young\\anaconda3\\lib\\site-packages (from fastbook) (4.27.4)\n",
      "Requirement already satisfied: packaging in c:\\users\\young\\anaconda3\\lib\\site-packages (from fastbook) (21.3)\n",
      "Requirement already satisfied: pandas in c:\\users\\young\\anaconda3\\lib\\site-packages (from fastbook) (1.4.4)\n",
      "Requirement already satisfied: pip in c:\\users\\young\\anaconda3\\lib\\site-packages (from fastbook) (22.2.2)\n",
      "Requirement already satisfied: torch<2.1,>=1.7 in c:\\users\\young\\anaconda3\\lib\\site-packages (from fastai>=2.6->fastbook) (2.0.0)\n",
      "Requirement already satisfied: torchvision>=0.8.2 in c:\\users\\young\\anaconda3\\lib\\site-packages (from fastai>=2.6->fastbook) (0.15.1)\n",
      "Requirement already satisfied: fastcore<1.6,>=1.5.29 in c:\\users\\young\\anaconda3\\lib\\site-packages (from fastai>=2.6->fastbook) (1.5.29)\n",
      "Requirement already satisfied: scipy in c:\\users\\young\\anaconda3\\lib\\site-packages (from fastai>=2.6->fastbook) (1.9.1)\n",
      "Requirement already satisfied: spacy<4 in c:\\users\\young\\anaconda3\\lib\\site-packages (from fastai>=2.6->fastbook) (3.5.1)\n",
      "Requirement already satisfied: fastdownload<2,>=0.0.5 in c:\\users\\young\\anaconda3\\lib\\site-packages (from fastai>=2.6->fastbook) (0.0.7)\n",
      "Requirement already satisfied: matplotlib in c:\\users\\young\\anaconda3\\lib\\site-packages (from fastai>=2.6->fastbook) (3.7.1)\n",
      "Requirement already satisfied: fastprogress>=0.2.4 in c:\\users\\young\\anaconda3\\lib\\site-packages (from fastai>=2.6->fastbook) (1.0.3)\n",
      "Requirement already satisfied: pyyaml in c:\\users\\young\\anaconda3\\lib\\site-packages (from fastai>=2.6->fastbook) (6.0)\n",
      "Requirement already satisfied: scikit-learn in c:\\users\\young\\anaconda3\\lib\\site-packages (from fastai>=2.6->fastbook) (1.0.2)\n",
      "Requirement already satisfied: pillow>6.0.0 in c:\\users\\young\\anaconda3\\lib\\site-packages (from fastai>=2.6->fastbook) (9.5.0)\n",
      "Requirement already satisfied: traitlets>=4.3.1 in c:\\users\\young\\anaconda3\\lib\\site-packages (from ipywidgets<8->fastbook) (5.1.1)\n",
      "Requirement already satisfied: widgetsnbextension~=3.5.0 in c:\\users\\young\\anaconda3\\lib\\site-packages (from ipywidgets<8->fastbook) (3.5.2)\n",
      "Requirement already satisfied: ipython-genutils~=0.2.0 in c:\\users\\young\\anaconda3\\lib\\site-packages (from ipywidgets<8->fastbook) (0.2.0)\n",
      "Requirement already satisfied: nbformat>=4.2.0 in c:\\users\\young\\anaconda3\\lib\\site-packages (from ipywidgets<8->fastbook) (5.5.0)\n",
      "Requirement already satisfied: jupyterlab-widgets>=1.0.0 in c:\\users\\young\\anaconda3\\lib\\site-packages (from ipywidgets<8->fastbook) (1.0.0)\n",
      "Requirement already satisfied: ipykernel>=4.5.1 in c:\\users\\young\\anaconda3\\lib\\site-packages (from ipywidgets<8->fastbook) (6.15.2)\n",
      "Requirement already satisfied: ipython>=4.0.0 in c:\\users\\young\\anaconda3\\lib\\site-packages (from ipywidgets<8->fastbook) (7.31.1)\n",
      "Requirement already satisfied: numpy>=1.17 in c:\\users\\young\\anaconda3\\lib\\site-packages (from datasets->fastbook) (1.24.3)\n",
      "Requirement already satisfied: xxhash in c:\\users\\young\\anaconda3\\lib\\site-packages (from datasets->fastbook) (3.2.0)\n",
      "Requirement already satisfied: multiprocess in c:\\users\\young\\anaconda3\\lib\\site-packages (from datasets->fastbook) (0.70.14)\n",
      "Requirement already satisfied: huggingface-hub<1.0.0,>=0.11.0 in c:\\users\\young\\anaconda3\\lib\\site-packages (from datasets->fastbook) (0.13.4)\n",
      "Requirement already satisfied: tqdm>=4.62.1 in c:\\users\\young\\anaconda3\\lib\\site-packages (from datasets->fastbook) (4.64.1)\n",
      "Requirement already satisfied: dill<0.3.7,>=0.3.0 in c:\\users\\young\\anaconda3\\lib\\site-packages (from datasets->fastbook) (0.3.6)\n",
      "Requirement already satisfied: responses<0.19 in c:\\users\\young\\anaconda3\\lib\\site-packages (from datasets->fastbook) (0.18.0)\n",
      "Requirement already satisfied: pyarrow>=8.0.0 in c:\\users\\young\\anaconda3\\lib\\site-packages (from datasets->fastbook) (11.0.0)\n",
      "Requirement already satisfied: aiohttp in c:\\users\\young\\anaconda3\\lib\\site-packages (from datasets->fastbook) (3.8.4)\n",
      "Requirement already satisfied: fsspec[http]>=2021.11.1 in c:\\users\\young\\anaconda3\\lib\\site-packages (from datasets->fastbook) (2022.7.1)\n",
      "Requirement already satisfied: urllib3<1.27,>=1.21.1 in c:\\users\\young\\anaconda3\\lib\\site-packages (from requests->fastbook) (1.26.11)\n",
      "Requirement already satisfied: certifi>=2017.4.17 in c:\\users\\young\\anaconda3\\lib\\site-packages (from requests->fastbook) (2022.9.14)\n",
      "Requirement already satisfied: charset-normalizer<3,>=2 in c:\\users\\young\\anaconda3\\lib\\site-packages (from requests->fastbook) (2.0.4)\n",
      "Requirement already satisfied: idna<4,>=2.5 in c:\\users\\young\\anaconda3\\lib\\site-packages (from requests->fastbook) (3.3)\n",
      "Requirement already satisfied: pyparsing!=3.0.5,>=2.0.2 in c:\\users\\young\\anaconda3\\lib\\site-packages (from packaging->fastbook) (3.0.9)\n",
      "Requirement already satisfied: python-dateutil>=2.8.1 in c:\\users\\young\\anaconda3\\lib\\site-packages (from pandas->fastbook) (2.8.2)\n",
      "Requirement already satisfied: pytz>=2020.1 in c:\\users\\young\\anaconda3\\lib\\site-packages (from pandas->fastbook) (2022.1)\n",
      "Requirement already satisfied: filelock in c:\\users\\young\\anaconda3\\lib\\site-packages (from transformers->fastbook) (3.6.0)\n",
      "Requirement already satisfied: tokenizers!=0.11.3,<0.14,>=0.11.1 in c:\\users\\young\\anaconda3\\lib\\site-packages (from transformers->fastbook) (0.13.3)\n",
      "Requirement already satisfied: regex!=2019.12.17 in c:\\users\\young\\anaconda3\\lib\\site-packages (from transformers->fastbook) (2022.7.9)\n",
      "Requirement already satisfied: typing-extensions>=3.7.4.3 in c:\\users\\young\\anaconda3\\lib\\site-packages (from huggingface-hub<1.0.0,>=0.11.0->datasets->fastbook) (4.3.0)\n",
      "Requirement already satisfied: jupyter-client>=6.1.12 in c:\\users\\young\\anaconda3\\lib\\site-packages (from ipykernel>=4.5.1->ipywidgets<8->fastbook) (7.3.4)\n",
      "Requirement already satisfied: debugpy>=1.0 in c:\\users\\young\\anaconda3\\lib\\site-packages (from ipykernel>=4.5.1->ipywidgets<8->fastbook) (1.5.1)\n",
      "Requirement already satisfied: matplotlib-inline>=0.1 in c:\\users\\young\\anaconda3\\lib\\site-packages (from ipykernel>=4.5.1->ipywidgets<8->fastbook) (0.1.6)\n",
      "Requirement already satisfied: psutil in c:\\users\\young\\anaconda3\\lib\\site-packages (from ipykernel>=4.5.1->ipywidgets<8->fastbook) (5.9.0)\n",
      "Requirement already satisfied: nest-asyncio in c:\\users\\young\\anaconda3\\lib\\site-packages (from ipykernel>=4.5.1->ipywidgets<8->fastbook) (1.5.5)\n",
      "Requirement already satisfied: tornado>=6.1 in c:\\users\\young\\anaconda3\\lib\\site-packages (from ipykernel>=4.5.1->ipywidgets<8->fastbook) (6.1)\n",
      "Requirement already satisfied: pyzmq>=17 in c:\\users\\young\\anaconda3\\lib\\site-packages (from ipykernel>=4.5.1->ipywidgets<8->fastbook) (23.2.0)\n",
      "Requirement already satisfied: pickleshare in c:\\users\\young\\anaconda3\\lib\\site-packages (from ipython>=4.0.0->ipywidgets<8->fastbook) (0.7.5)\n",
      "Requirement already satisfied: backcall in c:\\users\\young\\anaconda3\\lib\\site-packages (from ipython>=4.0.0->ipywidgets<8->fastbook) (0.2.0)\n",
      "Requirement already satisfied: colorama in c:\\users\\young\\anaconda3\\lib\\site-packages (from ipython>=4.0.0->ipywidgets<8->fastbook) (0.4.6)\n",
      "Requirement already satisfied: prompt-toolkit!=3.0.0,!=3.0.1,<3.1.0,>=2.0.0 in c:\\users\\young\\anaconda3\\lib\\site-packages (from ipython>=4.0.0->ipywidgets<8->fastbook) (3.0.20)\n",
      "Requirement already satisfied: decorator in c:\\users\\young\\anaconda3\\lib\\site-packages (from ipython>=4.0.0->ipywidgets<8->fastbook) (5.1.1)\n",
      "Requirement already satisfied: pygments in c:\\users\\young\\anaconda3\\lib\\site-packages (from ipython>=4.0.0->ipywidgets<8->fastbook) (2.14.0)\n",
      "Requirement already satisfied: setuptools>=18.5 in c:\\users\\young\\anaconda3\\lib\\site-packages (from ipython>=4.0.0->ipywidgets<8->fastbook) (63.4.1)\n",
      "Requirement already satisfied: jedi>=0.16 in c:\\users\\young\\anaconda3\\lib\\site-packages (from ipython>=4.0.0->ipywidgets<8->fastbook) (0.18.1)\n",
      "Requirement already satisfied: jupyter_core in c:\\users\\young\\anaconda3\\lib\\site-packages (from nbformat>=4.2.0->ipywidgets<8->fastbook) (4.11.1)\n",
      "Requirement already satisfied: fastjsonschema in c:\\users\\young\\anaconda3\\lib\\site-packages (from nbformat>=4.2.0->ipywidgets<8->fastbook) (2.16.2)\n",
      "Requirement already satisfied: jsonschema>=2.6 in c:\\users\\young\\anaconda3\\lib\\site-packages (from nbformat>=4.2.0->ipywidgets<8->fastbook) (4.16.0)\n",
      "Requirement already satisfied: six>=1.5 in c:\\users\\young\\anaconda3\\lib\\site-packages (from python-dateutil>=2.8.1->pandas->fastbook) (1.16.0)\n",
      "Requirement already satisfied: preshed<3.1.0,>=3.0.2 in c:\\users\\young\\anaconda3\\lib\\site-packages (from spacy<4->fastai>=2.6->fastbook) (3.0.8)\n",
      "Requirement already satisfied: wasabi<1.2.0,>=0.9.1 in c:\\users\\young\\anaconda3\\lib\\site-packages (from spacy<4->fastai>=2.6->fastbook) (1.1.1)\n",
      "Requirement already satisfied: srsly<3.0.0,>=2.4.3 in c:\\users\\young\\anaconda3\\lib\\site-packages (from spacy<4->fastai>=2.6->fastbook) (2.4.6)\n",
      "Requirement already satisfied: catalogue<2.1.0,>=2.0.6 in c:\\users\\young\\anaconda3\\lib\\site-packages (from spacy<4->fastai>=2.6->fastbook) (2.0.8)\n",
      "Requirement already satisfied: murmurhash<1.1.0,>=0.28.0 in c:\\users\\young\\anaconda3\\lib\\site-packages (from spacy<4->fastai>=2.6->fastbook) (1.0.9)\n",
      "Requirement already satisfied: pathy>=0.10.0 in c:\\users\\young\\anaconda3\\lib\\site-packages (from spacy<4->fastai>=2.6->fastbook) (0.10.1)\n",
      "Requirement already satisfied: smart-open<7.0.0,>=5.2.1 in c:\\users\\young\\anaconda3\\lib\\site-packages (from spacy<4->fastai>=2.6->fastbook) (5.2.1)\n",
      "Requirement already satisfied: spacy-legacy<3.1.0,>=3.0.11 in c:\\users\\young\\anaconda3\\lib\\site-packages (from spacy<4->fastai>=2.6->fastbook) (3.0.12)\n",
      "Requirement already satisfied: langcodes<4.0.0,>=3.2.0 in c:\\users\\young\\anaconda3\\lib\\site-packages (from spacy<4->fastai>=2.6->fastbook) (3.3.0)\n",
      "Requirement already satisfied: thinc<8.2.0,>=8.1.8 in c:\\users\\young\\anaconda3\\lib\\site-packages (from spacy<4->fastai>=2.6->fastbook) (8.1.9)\n",
      "Requirement already satisfied: jinja2 in c:\\users\\young\\anaconda3\\lib\\site-packages (from spacy<4->fastai>=2.6->fastbook) (2.11.3)\n",
      "Requirement already satisfied: cymem<2.1.0,>=2.0.2 in c:\\users\\young\\anaconda3\\lib\\site-packages (from spacy<4->fastai>=2.6->fastbook) (2.0.7)\n",
      "Requirement already satisfied: typer<0.8.0,>=0.3.0 in c:\\users\\young\\anaconda3\\lib\\site-packages (from spacy<4->fastai>=2.6->fastbook) (0.7.0)\n",
      "Requirement already satisfied: spacy-loggers<2.0.0,>=1.0.0 in c:\\users\\young\\anaconda3\\lib\\site-packages (from spacy<4->fastai>=2.6->fastbook) (1.0.4)\n",
      "Requirement already satisfied: pydantic!=1.8,!=1.8.1,<1.11.0,>=1.7.4 in c:\\users\\young\\anaconda3\\lib\\site-packages (from spacy<4->fastai>=2.6->fastbook) (1.10.7)\n",
      "Requirement already satisfied: networkx in c:\\users\\young\\anaconda3\\lib\\site-packages (from torch<2.1,>=1.7->fastai>=2.6->fastbook) (2.8.4)\n",
      "Requirement already satisfied: sympy in c:\\users\\young\\anaconda3\\lib\\site-packages (from torch<2.1,>=1.7->fastai>=2.6->fastbook) (1.10.1)\n",
      "Requirement already satisfied: notebook>=4.4.1 in c:\\users\\young\\anaconda3\\lib\\site-packages (from widgetsnbextension~=3.5.0->ipywidgets<8->fastbook) (6.4.12)\n",
      "Requirement already satisfied: frozenlist>=1.1.1 in c:\\users\\young\\anaconda3\\lib\\site-packages (from aiohttp->datasets->fastbook) (1.3.3)\n",
      "Requirement already satisfied: attrs>=17.3.0 in c:\\users\\young\\anaconda3\\lib\\site-packages (from aiohttp->datasets->fastbook) (21.4.0)\n",
      "Requirement already satisfied: async-timeout<5.0,>=4.0.0a3 in c:\\users\\young\\anaconda3\\lib\\site-packages (from aiohttp->datasets->fastbook) (4.0.2)\n",
      "Requirement already satisfied: multidict<7.0,>=4.5 in c:\\users\\young\\anaconda3\\lib\\site-packages (from aiohttp->datasets->fastbook) (6.0.4)\n",
      "Requirement already satisfied: aiosignal>=1.1.2 in c:\\users\\young\\anaconda3\\lib\\site-packages (from aiohttp->datasets->fastbook) (1.3.1)\n",
      "Requirement already satisfied: yarl<2.0,>=1.0 in c:\\users\\young\\anaconda3\\lib\\site-packages (from aiohttp->datasets->fastbook) (1.8.2)\n",
      "Requirement already satisfied: contourpy>=1.0.1 in c:\\users\\young\\anaconda3\\lib\\site-packages (from matplotlib->fastai>=2.6->fastbook) (1.0.7)\n",
      "Requirement already satisfied: kiwisolver>=1.0.1 in c:\\users\\young\\anaconda3\\lib\\site-packages (from matplotlib->fastai>=2.6->fastbook) (1.4.2)\n",
      "Requirement already satisfied: cycler>=0.10 in c:\\users\\young\\anaconda3\\lib\\site-packages (from matplotlib->fastai>=2.6->fastbook) (0.11.0)\n",
      "Requirement already satisfied: importlib-resources>=3.2.0 in c:\\users\\young\\anaconda3\\lib\\site-packages (from matplotlib->fastai>=2.6->fastbook) (5.10.2)\n",
      "Requirement already satisfied: fonttools>=4.22.0 in c:\\users\\young\\anaconda3\\lib\\site-packages (from matplotlib->fastai>=2.6->fastbook) (4.25.0)\n",
      "Requirement already satisfied: threadpoolctl>=2.0.0 in c:\\users\\young\\anaconda3\\lib\\site-packages (from scikit-learn->fastai>=2.6->fastbook) (2.2.0)\n",
      "Requirement already satisfied: joblib>=0.11 in c:\\users\\young\\anaconda3\\lib\\site-packages (from scikit-learn->fastai>=2.6->fastbook) (1.1.0)\n",
      "Requirement already satisfied: zipp>=3.1.0 in c:\\users\\young\\anaconda3\\lib\\site-packages (from importlib-resources>=3.2.0->matplotlib->fastai>=2.6->fastbook) (3.8.0)\n",
      "Requirement already satisfied: parso<0.9.0,>=0.8.0 in c:\\users\\young\\anaconda3\\lib\\site-packages (from jedi>=0.16->ipython>=4.0.0->ipywidgets<8->fastbook) (0.8.3)\n",
      "Requirement already satisfied: pyrsistent!=0.17.0,!=0.17.1,!=0.17.2,>=0.14.0 in c:\\users\\young\\anaconda3\\lib\\site-packages (from jsonschema>=2.6->nbformat>=4.2.0->ipywidgets<8->fastbook) (0.18.0)\n",
      "Requirement already satisfied: entrypoints in c:\\users\\young\\anaconda3\\lib\\site-packages (from jupyter-client>=6.1.12->ipykernel>=4.5.1->ipywidgets<8->fastbook) (0.4)\n",
      "Requirement already satisfied: pywin32>=1.0 in c:\\users\\young\\anaconda3\\lib\\site-packages (from jupyter_core->nbformat>=4.2.0->ipywidgets<8->fastbook) (302)\n",
      "Requirement already satisfied: argon2-cffi in c:\\users\\young\\anaconda3\\lib\\site-packages (from notebook>=4.4.1->widgetsnbextension~=3.5.0->ipywidgets<8->fastbook) (21.3.0)\n",
      "Requirement already satisfied: nbconvert>=5 in c:\\users\\young\\anaconda3\\lib\\site-packages (from notebook>=4.4.1->widgetsnbextension~=3.5.0->ipywidgets<8->fastbook) (6.4.4)\n",
      "Requirement already satisfied: prometheus-client in c:\\users\\young\\anaconda3\\lib\\site-packages (from notebook>=4.4.1->widgetsnbextension~=3.5.0->ipywidgets<8->fastbook) (0.14.1)\n",
      "Requirement already satisfied: Send2Trash>=1.8.0 in c:\\users\\young\\anaconda3\\lib\\site-packages (from notebook>=4.4.1->widgetsnbextension~=3.5.0->ipywidgets<8->fastbook) (1.8.0)\n",
      "Requirement already satisfied: terminado>=0.8.3 in c:\\users\\young\\anaconda3\\lib\\site-packages (from notebook>=4.4.1->widgetsnbextension~=3.5.0->ipywidgets<8->fastbook) (0.13.1)\n",
      "Requirement already satisfied: wcwidth in c:\\users\\young\\anaconda3\\lib\\site-packages (from prompt-toolkit!=3.0.0,!=3.0.1,<3.1.0,>=2.0.0->ipython>=4.0.0->ipywidgets<8->fastbook) (0.2.5)\n",
      "Requirement already satisfied: blis<0.8.0,>=0.7.8 in c:\\users\\young\\anaconda3\\lib\\site-packages (from thinc<8.2.0,>=8.1.8->spacy<4->fastai>=2.6->fastbook) (0.7.9)\n",
      "Requirement already satisfied: confection<1.0.0,>=0.0.1 in c:\\users\\young\\anaconda3\\lib\\site-packages (from thinc<8.2.0,>=8.1.8->spacy<4->fastai>=2.6->fastbook) (0.0.4)\n",
      "Requirement already satisfied: click<9.0.0,>=7.1.1 in c:\\users\\young\\anaconda3\\lib\\site-packages (from typer<0.8.0,>=0.3.0->spacy<4->fastai>=2.6->fastbook) (8.0.4)\n",
      "Requirement already satisfied: MarkupSafe>=0.23 in c:\\users\\young\\anaconda3\\lib\\site-packages (from jinja2->spacy<4->fastai>=2.6->fastbook) (2.0.1)\n",
      "Requirement already satisfied: mpmath>=0.19 in c:\\users\\young\\anaconda3\\lib\\site-packages (from sympy->torch<2.1,>=1.7->fastai>=2.6->fastbook) (1.2.1)\n",
      "Requirement already satisfied: bleach in c:\\users\\young\\anaconda3\\lib\\site-packages (from nbconvert>=5->notebook>=4.4.1->widgetsnbextension~=3.5.0->ipywidgets<8->fastbook) (4.1.0)\n",
      "Requirement already satisfied: pandocfilters>=1.4.1 in c:\\users\\young\\anaconda3\\lib\\site-packages (from nbconvert>=5->notebook>=4.4.1->widgetsnbextension~=3.5.0->ipywidgets<8->fastbook) (1.5.0)\n",
      "Requirement already satisfied: defusedxml in c:\\users\\young\\anaconda3\\lib\\site-packages (from nbconvert>=5->notebook>=4.4.1->widgetsnbextension~=3.5.0->ipywidgets<8->fastbook) (0.7.1)\n",
      "Requirement already satisfied: testpath in c:\\users\\young\\anaconda3\\lib\\site-packages (from nbconvert>=5->notebook>=4.4.1->widgetsnbextension~=3.5.0->ipywidgets<8->fastbook) (0.6.0)\n",
      "Requirement already satisfied: nbclient<0.6.0,>=0.5.0 in c:\\users\\young\\anaconda3\\lib\\site-packages (from nbconvert>=5->notebook>=4.4.1->widgetsnbextension~=3.5.0->ipywidgets<8->fastbook) (0.5.13)\n",
      "Requirement already satisfied: beautifulsoup4 in c:\\users\\young\\anaconda3\\lib\\site-packages (from nbconvert>=5->notebook>=4.4.1->widgetsnbextension~=3.5.0->ipywidgets<8->fastbook) (4.11.1)\n",
      "Requirement already satisfied: mistune<2,>=0.8.1 in c:\\users\\young\\anaconda3\\lib\\site-packages (from nbconvert>=5->notebook>=4.4.1->widgetsnbextension~=3.5.0->ipywidgets<8->fastbook) (0.8.4)\n",
      "Requirement already satisfied: jupyterlab-pygments in c:\\users\\young\\anaconda3\\lib\\site-packages (from nbconvert>=5->notebook>=4.4.1->widgetsnbextension~=3.5.0->ipywidgets<8->fastbook) (0.1.2)\n",
      "Requirement already satisfied: pywinpty>=1.1.0 in c:\\users\\young\\anaconda3\\lib\\site-packages (from terminado>=0.8.3->notebook>=4.4.1->widgetsnbextension~=3.5.0->ipywidgets<8->fastbook) (2.0.2)\n",
      "Requirement already satisfied: argon2-cffi-bindings in c:\\users\\young\\anaconda3\\lib\\site-packages (from argon2-cffi->notebook>=4.4.1->widgetsnbextension~=3.5.0->ipywidgets<8->fastbook) (21.2.0)\n",
      "Requirement already satisfied: cffi>=1.0.1 in c:\\users\\young\\anaconda3\\lib\\site-packages (from argon2-cffi-bindings->argon2-cffi->notebook>=4.4.1->widgetsnbextension~=3.5.0->ipywidgets<8->fastbook) (1.15.1)\n",
      "Requirement already satisfied: soupsieve>1.2 in c:\\users\\young\\anaconda3\\lib\\site-packages (from beautifulsoup4->nbconvert>=5->notebook>=4.4.1->widgetsnbextension~=3.5.0->ipywidgets<8->fastbook) (2.3.1)\n",
      "Requirement already satisfied: webencodings in c:\\users\\young\\anaconda3\\lib\\site-packages (from bleach->nbconvert>=5->notebook>=4.4.1->widgetsnbextension~=3.5.0->ipywidgets<8->fastbook) (0.5.1)\n",
      "Requirement already satisfied: pycparser in c:\\users\\young\\anaconda3\\lib\\site-packages (from cffi>=1.0.1->argon2-cffi-bindings->argon2-cffi->notebook>=4.4.1->widgetsnbextension~=3.5.0->ipywidgets<8->fastbook) (2.21)\n"
     ]
    }
   ],
   "source": [
    "!pip install jmd-imagescraper\n",
    "!pip install fastbook"
   ]
  },
  {
   "cell_type": "code",
   "execution_count": 9,
   "id": "b3a177e8",
   "metadata": {},
   "outputs": [],
   "source": [
    "import pandas as pd\n",
    "\n",
    "label = pd.read_csv(\"C:\\\\Users\\\\young\\\\Documents\\\\GitHub\\Dog-Breed-Classification\\label.csv\")"
   ]
  },
  {
   "cell_type": "code",
   "execution_count": 34,
   "id": "78c493e3",
   "metadata": {},
   "outputs": [],
   "source": [
    "import os\n",
    "\n",
    "for i in range(120):\n",
    "    ori = label.iloc[i, 1].split('_')[0]\n",
    "    new = label.iloc[i, 1]\n",
    "    os.rename(f\"C:/Users/young/Documents/GitHub/Dog-Breed-Classification/images/train/{ori}\", f\"C:/Users/young/Documents/GitHub/Dog-Breed-Classification/images/train/{new}\")\n",
    "    \n",
    "for i in range(120):\n",
    "    ori = label.iloc[i, 1].split('_')[0]\n",
    "    new = label.iloc[i, 1]\n",
    "    os.rename(f\"C:/Users/young/Documents/GitHub/Dog-Breed-Classification/images/test/{ori}\", f\"C:/Users/young/Documents/GitHub/Dog-Breed-Classification/images/test/{new}\")"
   ]
  },
  {
   "cell_type": "code",
   "execution_count": 48,
   "id": "73ed8830",
   "metadata": {},
   "outputs": [],
   "source": [
    "key = []\n",
    "\n",
    "for i in label.iloc[:, 1]:\n",
    "    key.append(' '.join(i.split('_')[1:]))"
   ]
  },
  {
   "cell_type": "code",
   "execution_count": 39,
   "id": "22d83d0a",
   "metadata": {},
   "outputs": [
    {
     "name": "stdout",
     "output_type": "stream",
     "text": [
      "Requirement already satisfied: fastbook in c:\\users\\young\\anaconda3\\lib\\site-packages (0.0.29)\n",
      "Requirement already satisfied: ipywidgets<8 in c:\\users\\young\\anaconda3\\lib\\site-packages (from fastbook) (7.6.5)\n",
      "Requirement already satisfied: graphviz in c:\\users\\young\\anaconda3\\lib\\site-packages (from fastbook) (0.20.1)\n",
      "Requirement already satisfied: pip in c:\\users\\young\\anaconda3\\lib\\site-packages (from fastbook) (22.2.2)\n",
      "Requirement already satisfied: transformers in c:\\users\\young\\anaconda3\\lib\\site-packages (from fastbook) (4.27.4)\n",
      "Requirement already satisfied: fastai>=2.6 in c:\\users\\young\\anaconda3\\lib\\site-packages (from fastbook) (2.7.12)\n",
      "Requirement already satisfied: datasets in c:\\users\\young\\anaconda3\\lib\\site-packages (from fastbook) (2.11.0)\n",
      "Requirement already satisfied: packaging in c:\\users\\young\\anaconda3\\lib\\site-packages (from fastbook) (21.3)\n",
      "Requirement already satisfied: sentencepiece in c:\\users\\young\\anaconda3\\lib\\site-packages (from fastbook) (0.1.97)\n",
      "Requirement already satisfied: pandas in c:\\users\\young\\anaconda3\\lib\\site-packages (from fastbook) (1.4.4)\n",
      "Requirement already satisfied: requests in c:\\users\\young\\anaconda3\\lib\\site-packages (from fastbook) (2.28.1)\n",
      "Requirement already satisfied: spacy<4 in c:\\users\\young\\anaconda3\\lib\\site-packages (from fastai>=2.6->fastbook) (3.5.1)\n",
      "Requirement already satisfied: pyyaml in c:\\users\\young\\anaconda3\\lib\\site-packages (from fastai>=2.6->fastbook) (6.0)\n",
      "Requirement already satisfied: pillow>6.0.0 in c:\\users\\young\\anaconda3\\lib\\site-packages (from fastai>=2.6->fastbook) (9.2.0)\n",
      "Requirement already satisfied: matplotlib in c:\\users\\young\\anaconda3\\lib\\site-packages (from fastai>=2.6->fastbook) (3.5.2)\n",
      "Requirement already satisfied: torch<2.1,>=1.7 in c:\\users\\young\\anaconda3\\lib\\site-packages (from fastai>=2.6->fastbook) (2.0.0)\n",
      "Requirement already satisfied: scikit-learn in c:\\users\\young\\anaconda3\\lib\\site-packages (from fastai>=2.6->fastbook) (1.0.2)\n",
      "Requirement already satisfied: fastdownload<2,>=0.0.5 in c:\\users\\young\\anaconda3\\lib\\site-packages (from fastai>=2.6->fastbook) (0.0.7)\n",
      "Requirement already satisfied: fastcore<1.6,>=1.5.29 in c:\\users\\young\\anaconda3\\lib\\site-packages (from fastai>=2.6->fastbook) (1.5.29)\n",
      "Requirement already satisfied: fastprogress>=0.2.4 in c:\\users\\young\\anaconda3\\lib\\site-packages (from fastai>=2.6->fastbook) (1.0.3)\n",
      "Requirement already satisfied: torchvision>=0.8.2 in c:\\users\\young\\anaconda3\\lib\\site-packages (from fastai>=2.6->fastbook) (0.15.1)\n",
      "Requirement already satisfied: scipy in c:\\users\\young\\anaconda3\\lib\\site-packages (from fastai>=2.6->fastbook) (1.9.1)\n",
      "Requirement already satisfied: ipython-genutils~=0.2.0 in c:\\users\\young\\anaconda3\\lib\\site-packages (from ipywidgets<8->fastbook) (0.2.0)\n",
      "Requirement already satisfied: traitlets>=4.3.1 in c:\\users\\young\\anaconda3\\lib\\site-packages (from ipywidgets<8->fastbook) (5.1.1)\n",
      "Requirement already satisfied: ipython>=4.0.0 in c:\\users\\young\\anaconda3\\lib\\site-packages (from ipywidgets<8->fastbook) (7.31.1)\n",
      "Requirement already satisfied: widgetsnbextension~=3.5.0 in c:\\users\\young\\anaconda3\\lib\\site-packages (from ipywidgets<8->fastbook) (3.5.2)\n",
      "Requirement already satisfied: ipykernel>=4.5.1 in c:\\users\\young\\anaconda3\\lib\\site-packages (from ipywidgets<8->fastbook) (6.15.2)\n",
      "Requirement already satisfied: nbformat>=4.2.0 in c:\\users\\young\\anaconda3\\lib\\site-packages (from ipywidgets<8->fastbook) (5.5.0)\n",
      "Requirement already satisfied: jupyterlab-widgets>=1.0.0 in c:\\users\\young\\anaconda3\\lib\\site-packages (from ipywidgets<8->fastbook) (1.0.0)\n",
      "Requirement already satisfied: pyarrow>=8.0.0 in c:\\users\\young\\anaconda3\\lib\\site-packages (from datasets->fastbook) (11.0.0)\n",
      "Requirement already satisfied: dill<0.3.7,>=0.3.0 in c:\\users\\young\\anaconda3\\lib\\site-packages (from datasets->fastbook) (0.3.6)\n",
      "Requirement already satisfied: huggingface-hub<1.0.0,>=0.11.0 in c:\\users\\young\\anaconda3\\lib\\site-packages (from datasets->fastbook) (0.13.4)\n",
      "Requirement already satisfied: fsspec[http]>=2021.11.1 in c:\\users\\young\\anaconda3\\lib\\site-packages (from datasets->fastbook) (2022.7.1)\n",
      "Requirement already satisfied: aiohttp in c:\\users\\young\\anaconda3\\lib\\site-packages (from datasets->fastbook) (3.8.4)\n",
      "Requirement already satisfied: responses<0.19 in c:\\users\\young\\anaconda3\\lib\\site-packages (from datasets->fastbook) (0.18.0)\n",
      "Requirement already satisfied: numpy>=1.17 in c:\\users\\young\\anaconda3\\lib\\site-packages (from datasets->fastbook) (1.22.0)\n",
      "Requirement already satisfied: xxhash in c:\\users\\young\\anaconda3\\lib\\site-packages (from datasets->fastbook) (3.2.0)\n",
      "Requirement already satisfied: multiprocess in c:\\users\\young\\anaconda3\\lib\\site-packages (from datasets->fastbook) (0.70.14)\n",
      "Requirement already satisfied: tqdm>=4.62.1 in c:\\users\\young\\anaconda3\\lib\\site-packages (from datasets->fastbook) (4.64.1)\n",
      "Requirement already satisfied: certifi>=2017.4.17 in c:\\users\\young\\anaconda3\\lib\\site-packages (from requests->fastbook) (2022.9.14)\n",
      "Requirement already satisfied: urllib3<1.27,>=1.21.1 in c:\\users\\young\\anaconda3\\lib\\site-packages (from requests->fastbook) (1.26.11)\n",
      "Requirement already satisfied: idna<4,>=2.5 in c:\\users\\young\\anaconda3\\lib\\site-packages (from requests->fastbook) (3.3)\n",
      "Requirement already satisfied: charset-normalizer<3,>=2 in c:\\users\\young\\anaconda3\\lib\\site-packages (from requests->fastbook) (2.0.4)\n",
      "Requirement already satisfied: pyparsing!=3.0.5,>=2.0.2 in c:\\users\\young\\anaconda3\\lib\\site-packages (from packaging->fastbook) (3.0.9)\n",
      "Requirement already satisfied: python-dateutil>=2.8.1 in c:\\users\\young\\anaconda3\\lib\\site-packages (from pandas->fastbook) (2.8.2)\n",
      "Requirement already satisfied: pytz>=2020.1 in c:\\users\\young\\anaconda3\\lib\\site-packages (from pandas->fastbook) (2022.1)\n",
      "Requirement already satisfied: tokenizers!=0.11.3,<0.14,>=0.11.1 in c:\\users\\young\\anaconda3\\lib\\site-packages (from transformers->fastbook) (0.13.3)\n",
      "Requirement already satisfied: filelock in c:\\users\\young\\anaconda3\\lib\\site-packages (from transformers->fastbook) (3.6.0)\n",
      "Requirement already satisfied: regex!=2019.12.17 in c:\\users\\young\\anaconda3\\lib\\site-packages (from transformers->fastbook) (2022.7.9)\n",
      "Requirement already satisfied: typing-extensions>=3.7.4.3 in c:\\users\\young\\anaconda3\\lib\\site-packages (from huggingface-hub<1.0.0,>=0.11.0->datasets->fastbook) (4.3.0)\n",
      "Requirement already satisfied: jupyter-client>=6.1.12 in c:\\users\\young\\anaconda3\\lib\\site-packages (from ipykernel>=4.5.1->ipywidgets<8->fastbook) (7.3.4)\n",
      "Requirement already satisfied: pyzmq>=17 in c:\\users\\young\\anaconda3\\lib\\site-packages (from ipykernel>=4.5.1->ipywidgets<8->fastbook) (23.2.0)\n",
      "Requirement already satisfied: nest-asyncio in c:\\users\\young\\anaconda3\\lib\\site-packages (from ipykernel>=4.5.1->ipywidgets<8->fastbook) (1.5.5)\n",
      "Requirement already satisfied: debugpy>=1.0 in c:\\users\\young\\anaconda3\\lib\\site-packages (from ipykernel>=4.5.1->ipywidgets<8->fastbook) (1.5.1)\n",
      "Requirement already satisfied: matplotlib-inline>=0.1 in c:\\users\\young\\anaconda3\\lib\\site-packages (from ipykernel>=4.5.1->ipywidgets<8->fastbook) (0.1.6)\n",
      "Requirement already satisfied: psutil in c:\\users\\young\\anaconda3\\lib\\site-packages (from ipykernel>=4.5.1->ipywidgets<8->fastbook) (5.9.0)\n",
      "Requirement already satisfied: tornado>=6.1 in c:\\users\\young\\anaconda3\\lib\\site-packages (from ipykernel>=4.5.1->ipywidgets<8->fastbook) (6.1)\n",
      "Requirement already satisfied: jedi>=0.16 in c:\\users\\young\\anaconda3\\lib\\site-packages (from ipython>=4.0.0->ipywidgets<8->fastbook) (0.18.1)\n",
      "Requirement already satisfied: decorator in c:\\users\\young\\anaconda3\\lib\\site-packages (from ipython>=4.0.0->ipywidgets<8->fastbook) (5.1.1)\n",
      "Requirement already satisfied: pickleshare in c:\\users\\young\\anaconda3\\lib\\site-packages (from ipython>=4.0.0->ipywidgets<8->fastbook) (0.7.5)\n",
      "Requirement already satisfied: colorama in c:\\users\\young\\anaconda3\\lib\\site-packages (from ipython>=4.0.0->ipywidgets<8->fastbook) (0.4.6)\n",
      "Requirement already satisfied: backcall in c:\\users\\young\\anaconda3\\lib\\site-packages (from ipython>=4.0.0->ipywidgets<8->fastbook) (0.2.0)\n",
      "Requirement already satisfied: pygments in c:\\users\\young\\anaconda3\\lib\\site-packages (from ipython>=4.0.0->ipywidgets<8->fastbook) (2.14.0)\n",
      "Requirement already satisfied: prompt-toolkit!=3.0.0,!=3.0.1,<3.1.0,>=2.0.0 in c:\\users\\young\\anaconda3\\lib\\site-packages (from ipython>=4.0.0->ipywidgets<8->fastbook) (3.0.20)\n",
      "Requirement already satisfied: setuptools>=18.5 in c:\\users\\young\\anaconda3\\lib\\site-packages (from ipython>=4.0.0->ipywidgets<8->fastbook) (63.4.1)\n",
      "Requirement already satisfied: fastjsonschema in c:\\users\\young\\anaconda3\\lib\\site-packages (from nbformat>=4.2.0->ipywidgets<8->fastbook) (2.16.2)\n",
      "Requirement already satisfied: jupyter_core in c:\\users\\young\\anaconda3\\lib\\site-packages (from nbformat>=4.2.0->ipywidgets<8->fastbook) (4.11.1)\n",
      "Requirement already satisfied: jsonschema>=2.6 in c:\\users\\young\\anaconda3\\lib\\site-packages (from nbformat>=4.2.0->ipywidgets<8->fastbook) (4.16.0)\n",
      "Requirement already satisfied: six>=1.5 in c:\\users\\young\\anaconda3\\lib\\site-packages (from python-dateutil>=2.8.1->pandas->fastbook) (1.16.0)\n",
      "Requirement already satisfied: pydantic!=1.8,!=1.8.1,<1.11.0,>=1.7.4 in c:\\users\\young\\anaconda3\\lib\\site-packages (from spacy<4->fastai>=2.6->fastbook) (1.10.7)\n",
      "Requirement already satisfied: srsly<3.0.0,>=2.4.3 in c:\\users\\young\\anaconda3\\lib\\site-packages (from spacy<4->fastai>=2.6->fastbook) (2.4.6)\n",
      "Requirement already satisfied: langcodes<4.0.0,>=3.2.0 in c:\\users\\young\\anaconda3\\lib\\site-packages (from spacy<4->fastai>=2.6->fastbook) (3.3.0)\n",
      "Requirement already satisfied: typer<0.8.0,>=0.3.0 in c:\\users\\young\\anaconda3\\lib\\site-packages (from spacy<4->fastai>=2.6->fastbook) (0.7.0)\n",
      "Requirement already satisfied: preshed<3.1.0,>=3.0.2 in c:\\users\\young\\anaconda3\\lib\\site-packages (from spacy<4->fastai>=2.6->fastbook) (3.0.8)\n",
      "Requirement already satisfied: smart-open<7.0.0,>=5.2.1 in c:\\users\\young\\anaconda3\\lib\\site-packages (from spacy<4->fastai>=2.6->fastbook) (5.2.1)\n",
      "Requirement already satisfied: thinc<8.2.0,>=8.1.8 in c:\\users\\young\\anaconda3\\lib\\site-packages (from spacy<4->fastai>=2.6->fastbook) (8.1.9)\n",
      "Requirement already satisfied: spacy-loggers<2.0.0,>=1.0.0 in c:\\users\\young\\anaconda3\\lib\\site-packages (from spacy<4->fastai>=2.6->fastbook) (1.0.4)\n",
      "Requirement already satisfied: spacy-legacy<3.1.0,>=3.0.11 in c:\\users\\young\\anaconda3\\lib\\site-packages (from spacy<4->fastai>=2.6->fastbook) (3.0.12)\n",
      "Requirement already satisfied: pathy>=0.10.0 in c:\\users\\young\\anaconda3\\lib\\site-packages (from spacy<4->fastai>=2.6->fastbook) (0.10.1)\n",
      "Requirement already satisfied: cymem<2.1.0,>=2.0.2 in c:\\users\\young\\anaconda3\\lib\\site-packages (from spacy<4->fastai>=2.6->fastbook) (2.0.7)\n",
      "Requirement already satisfied: wasabi<1.2.0,>=0.9.1 in c:\\users\\young\\anaconda3\\lib\\site-packages (from spacy<4->fastai>=2.6->fastbook) (1.1.1)\n",
      "Requirement already satisfied: jinja2 in c:\\users\\young\\anaconda3\\lib\\site-packages (from spacy<4->fastai>=2.6->fastbook) (2.11.3)\n",
      "Requirement already satisfied: catalogue<2.1.0,>=2.0.6 in c:\\users\\young\\anaconda3\\lib\\site-packages (from spacy<4->fastai>=2.6->fastbook) (2.0.8)\n",
      "Requirement already satisfied: murmurhash<1.1.0,>=0.28.0 in c:\\users\\young\\anaconda3\\lib\\site-packages (from spacy<4->fastai>=2.6->fastbook) (1.0.9)\n",
      "Requirement already satisfied: networkx in c:\\users\\young\\anaconda3\\lib\\site-packages (from torch<2.1,>=1.7->fastai>=2.6->fastbook) (2.8.4)\n",
      "Requirement already satisfied: sympy in c:\\users\\young\\anaconda3\\lib\\site-packages (from torch<2.1,>=1.7->fastai>=2.6->fastbook) (1.10.1)\n",
      "Requirement already satisfied: notebook>=4.4.1 in c:\\users\\young\\anaconda3\\lib\\site-packages (from widgetsnbextension~=3.5.0->ipywidgets<8->fastbook) (6.4.12)\n",
      "Requirement already satisfied: aiosignal>=1.1.2 in c:\\users\\young\\anaconda3\\lib\\site-packages (from aiohttp->datasets->fastbook) (1.3.1)\n",
      "Requirement already satisfied: yarl<2.0,>=1.0 in c:\\users\\young\\anaconda3\\lib\\site-packages (from aiohttp->datasets->fastbook) (1.8.2)\n",
      "Requirement already satisfied: multidict<7.0,>=4.5 in c:\\users\\young\\anaconda3\\lib\\site-packages (from aiohttp->datasets->fastbook) (6.0.4)\n",
      "Requirement already satisfied: attrs>=17.3.0 in c:\\users\\young\\anaconda3\\lib\\site-packages (from aiohttp->datasets->fastbook) (21.4.0)\n",
      "Requirement already satisfied: async-timeout<5.0,>=4.0.0a3 in c:\\users\\young\\anaconda3\\lib\\site-packages (from aiohttp->datasets->fastbook) (4.0.2)\n",
      "Requirement already satisfied: frozenlist>=1.1.1 in c:\\users\\young\\anaconda3\\lib\\site-packages (from aiohttp->datasets->fastbook) (1.3.3)\n",
      "Requirement already satisfied: cycler>=0.10 in c:\\users\\young\\anaconda3\\lib\\site-packages (from matplotlib->fastai>=2.6->fastbook) (0.11.0)\n",
      "Requirement already satisfied: kiwisolver>=1.0.1 in c:\\users\\young\\anaconda3\\lib\\site-packages (from matplotlib->fastai>=2.6->fastbook) (1.4.2)\n",
      "Requirement already satisfied: fonttools>=4.22.0 in c:\\users\\young\\anaconda3\\lib\\site-packages (from matplotlib->fastai>=2.6->fastbook) (4.25.0)\n",
      "Requirement already satisfied: threadpoolctl>=2.0.0 in c:\\users\\young\\anaconda3\\lib\\site-packages (from scikit-learn->fastai>=2.6->fastbook) (2.2.0)\n",
      "Requirement already satisfied: joblib>=0.11 in c:\\users\\young\\anaconda3\\lib\\site-packages (from scikit-learn->fastai>=2.6->fastbook) (1.1.0)\n",
      "Requirement already satisfied: parso<0.9.0,>=0.8.0 in c:\\users\\young\\anaconda3\\lib\\site-packages (from jedi>=0.16->ipython>=4.0.0->ipywidgets<8->fastbook) (0.8.3)\n",
      "Requirement already satisfied: pyrsistent!=0.17.0,!=0.17.1,!=0.17.2,>=0.14.0 in c:\\users\\young\\anaconda3\\lib\\site-packages (from jsonschema>=2.6->nbformat>=4.2.0->ipywidgets<8->fastbook) (0.18.0)\n",
      "Requirement already satisfied: entrypoints in c:\\users\\young\\anaconda3\\lib\\site-packages (from jupyter-client>=6.1.12->ipykernel>=4.5.1->ipywidgets<8->fastbook) (0.4)\n",
      "Requirement already satisfied: pywin32>=1.0 in c:\\users\\young\\anaconda3\\lib\\site-packages (from jupyter_core->nbformat>=4.2.0->ipywidgets<8->fastbook) (302)\n",
      "Requirement already satisfied: terminado>=0.8.3 in c:\\users\\young\\anaconda3\\lib\\site-packages (from notebook>=4.4.1->widgetsnbextension~=3.5.0->ipywidgets<8->fastbook) (0.13.1)\n",
      "Requirement already satisfied: Send2Trash>=1.8.0 in c:\\users\\young\\anaconda3\\lib\\site-packages (from notebook>=4.4.1->widgetsnbextension~=3.5.0->ipywidgets<8->fastbook) (1.8.0)\n",
      "Requirement already satisfied: argon2-cffi in c:\\users\\young\\anaconda3\\lib\\site-packages (from notebook>=4.4.1->widgetsnbextension~=3.5.0->ipywidgets<8->fastbook) (21.3.0)\n",
      "Requirement already satisfied: prometheus-client in c:\\users\\young\\anaconda3\\lib\\site-packages (from notebook>=4.4.1->widgetsnbextension~=3.5.0->ipywidgets<8->fastbook) (0.14.1)\n",
      "Requirement already satisfied: nbconvert>=5 in c:\\users\\young\\anaconda3\\lib\\site-packages (from notebook>=4.4.1->widgetsnbextension~=3.5.0->ipywidgets<8->fastbook) (6.4.4)\n",
      "Requirement already satisfied: wcwidth in c:\\users\\young\\anaconda3\\lib\\site-packages (from prompt-toolkit!=3.0.0,!=3.0.1,<3.1.0,>=2.0.0->ipython>=4.0.0->ipywidgets<8->fastbook) (0.2.5)\n",
      "Requirement already satisfied: blis<0.8.0,>=0.7.8 in c:\\users\\young\\anaconda3\\lib\\site-packages (from thinc<8.2.0,>=8.1.8->spacy<4->fastai>=2.6->fastbook) (0.7.9)\n",
      "Requirement already satisfied: confection<1.0.0,>=0.0.1 in c:\\users\\young\\anaconda3\\lib\\site-packages (from thinc<8.2.0,>=8.1.8->spacy<4->fastai>=2.6->fastbook) (0.0.4)\n",
      "Requirement already satisfied: click<9.0.0,>=7.1.1 in c:\\users\\young\\anaconda3\\lib\\site-packages (from typer<0.8.0,>=0.3.0->spacy<4->fastai>=2.6->fastbook) (8.0.4)\n",
      "Requirement already satisfied: MarkupSafe>=0.23 in c:\\users\\young\\anaconda3\\lib\\site-packages (from jinja2->spacy<4->fastai>=2.6->fastbook) (2.0.1)\n",
      "Requirement already satisfied: mpmath>=0.19 in c:\\users\\young\\anaconda3\\lib\\site-packages (from sympy->torch<2.1,>=1.7->fastai>=2.6->fastbook) (1.2.1)\n",
      "Requirement already satisfied: pandocfilters>=1.4.1 in c:\\users\\young\\anaconda3\\lib\\site-packages (from nbconvert>=5->notebook>=4.4.1->widgetsnbextension~=3.5.0->ipywidgets<8->fastbook) (1.5.0)\n",
      "Requirement already satisfied: defusedxml in c:\\users\\young\\anaconda3\\lib\\site-packages (from nbconvert>=5->notebook>=4.4.1->widgetsnbextension~=3.5.0->ipywidgets<8->fastbook) (0.7.1)\n",
      "Requirement already satisfied: bleach in c:\\users\\young\\anaconda3\\lib\\site-packages (from nbconvert>=5->notebook>=4.4.1->widgetsnbextension~=3.5.0->ipywidgets<8->fastbook) (4.1.0)\n",
      "Requirement already satisfied: nbclient<0.6.0,>=0.5.0 in c:\\users\\young\\anaconda3\\lib\\site-packages (from nbconvert>=5->notebook>=4.4.1->widgetsnbextension~=3.5.0->ipywidgets<8->fastbook) (0.5.13)\n",
      "Requirement already satisfied: mistune<2,>=0.8.1 in c:\\users\\young\\anaconda3\\lib\\site-packages (from nbconvert>=5->notebook>=4.4.1->widgetsnbextension~=3.5.0->ipywidgets<8->fastbook) (0.8.4)\n",
      "Requirement already satisfied: testpath in c:\\users\\young\\anaconda3\\lib\\site-packages (from nbconvert>=5->notebook>=4.4.1->widgetsnbextension~=3.5.0->ipywidgets<8->fastbook) (0.6.0)\n",
      "Requirement already satisfied: jupyterlab-pygments in c:\\users\\young\\anaconda3\\lib\\site-packages (from nbconvert>=5->notebook>=4.4.1->widgetsnbextension~=3.5.0->ipywidgets<8->fastbook) (0.1.2)\n",
      "Requirement already satisfied: beautifulsoup4 in c:\\users\\young\\anaconda3\\lib\\site-packages (from nbconvert>=5->notebook>=4.4.1->widgetsnbextension~=3.5.0->ipywidgets<8->fastbook) (4.11.1)\n",
      "Requirement already satisfied: pywinpty>=1.1.0 in c:\\users\\young\\anaconda3\\lib\\site-packages (from terminado>=0.8.3->notebook>=4.4.1->widgetsnbextension~=3.5.0->ipywidgets<8->fastbook) (2.0.2)\n",
      "Requirement already satisfied: argon2-cffi-bindings in c:\\users\\young\\anaconda3\\lib\\site-packages (from argon2-cffi->notebook>=4.4.1->widgetsnbextension~=3.5.0->ipywidgets<8->fastbook) (21.2.0)\n",
      "Requirement already satisfied: cffi>=1.0.1 in c:\\users\\young\\anaconda3\\lib\\site-packages (from argon2-cffi-bindings->argon2-cffi->notebook>=4.4.1->widgetsnbextension~=3.5.0->ipywidgets<8->fastbook) (1.15.1)\n",
      "Requirement already satisfied: soupsieve>1.2 in c:\\users\\young\\anaconda3\\lib\\site-packages (from beautifulsoup4->nbconvert>=5->notebook>=4.4.1->widgetsnbextension~=3.5.0->ipywidgets<8->fastbook) (2.3.1)\n",
      "Requirement already satisfied: webencodings in c:\\users\\young\\anaconda3\\lib\\site-packages (from bleach->nbconvert>=5->notebook>=4.4.1->widgetsnbextension~=3.5.0->ipywidgets<8->fastbook) (0.5.1)\n",
      "Requirement already satisfied: pycparser in c:\\users\\young\\anaconda3\\lib\\site-packages (from cffi>=1.0.1->argon2-cffi-bindings->argon2-cffi->notebook>=4.4.1->widgetsnbextension~=3.5.0->ipywidgets<8->fastbook) (2.21)\n"
     ]
    }
   ],
   "source": [
    "!pip install fastbook"
   ]
  },
  {
   "cell_type": "code",
   "execution_count": 50,
   "id": "6dc9e62b",
   "metadata": {},
   "outputs": [],
   "source": [
    "from fastbook import *\n",
    "from fastai.vision.widgets import *\n",
    "from tqdm.auto import tqdm\n",
    "\n",
    "#download from duckduckgo\n",
    "def search_images_ddg(key, max_n=200):\n",
    "     \"\"\"Search for 'key' with DuckDuckGo and return a unique urls of 'max_n' images\n",
    "        (Adopted from https://github.com/deepanprabhu/duckduckgo-images-api)\n",
    "     \"\"\"\n",
    "     url        = 'https://duckduckgo.com/'\n",
    "     params     = {'q':key}\n",
    "     res        = requests.post(url,data=params)\n",
    "     searchObj  = re.search(r'vqd=([\\d-]+)\\&',res.text)\n",
    "     if not searchObj: print('Token Parsing Failed !'); return\n",
    "     requestUrl = url + 'i.js'\n",
    "     headers    = {'User-Agent': 'Mozilla/5.0 (X11; Ubuntu; Linux x86_64; rv:71.0) Gecko/20100101 Firefox/71.0'}\n",
    "     params     = (('l','us-en'),('o','json'),('q',key),('vqd',searchObj.group(1)),('f',',,,'),('p','1'),('v7exp','a'))\n",
    "     urls       = []\n",
    "     while True:\n",
    "         try:\n",
    "             res  = requests.get(requestUrl,headers=headers,params=params)\n",
    "             data = json.loads(res.text)\n",
    "             for obj in data['results']:\n",
    "                 urls.append(obj['image'])\n",
    "                 max_n = max_n - 1\n",
    "                 if max_n < 1: return L(set(urls))     # dedupe\n",
    "             if 'next' not in data: return L(set(urls))\n",
    "             requestUrl = url + data['next']\n",
    "         except:\n",
    "             pass"
   ]
  },
  {
   "cell_type": "code",
   "execution_count": 51,
   "id": "0c82e644",
   "metadata": {},
   "outputs": [
    {
     "data": {
      "application/vnd.jupyter.widget-view+json": {
       "model_id": "cf2eb1f8c0f04d5abe953423a300a657",
       "version_major": 2,
       "version_minor": 0
      },
      "text/plain": [
       "  0%|          | 0/120 [00:00<?, ?it/s]"
      ]
     },
     "metadata": {},
     "output_type": "display_data"
    }
   ],
   "source": [
    "#save ไว้ที่ไหน\n",
    "path = Path('C:/Users/young/Documents/GitHub/Dog-Breed-Classification/img/')\n",
    "#เอารูปอะไรบ้าง (labels)\n",
    "labels = key\n",
    "#เอา label ละกี่รูป\n",
    "MAX_N = 300\n",
    "\n",
    "if not path.exists():\n",
    "    path.mkdir()\n",
    "    for l in tqdm(labels):\n",
    "        dest = (path/l)\n",
    "        dest.mkdir(exist_ok=True)\n",
    "        results = search_images_ddg(l, max_n=MAX_N)\n",
    "        download_images(dest, urls=results)\n",
    "     "
   ]
  },
  {
   "cell_type": "code",
   "execution_count": 55,
   "id": "fc16b81b",
   "metadata": {},
   "outputs": [],
   "source": [
    "for i in range(120):\n",
    "    ori = ' '.join(label.iloc[i, 1].split('_')[1:])\n",
    "    new = label.iloc[i, 1]\n",
    "    os.rename(f\"C:/Users/young/Documents/GitHub/Dog-Breed-Classification/img/{ori}\", f\"C:/Users/young/Documents/GitHub/Dog-Breed-Classification/img/{new}\")"
   ]
  },
  {
   "cell_type": "code",
   "execution_count": 4,
   "id": "3f5a2c38",
   "metadata": {},
   "outputs": [
    {
     "data": {
      "application/vnd.jupyter.widget-view+json": {
       "model_id": "0eaf62616cce432abc8977af80290f68",
       "version_major": 2,
       "version_minor": 0
      },
      "text/plain": [
       "HBox(children=(Button(description='|<<', layout=Layout(width='60px'), style=ButtonStyle()), Button(description…"
      ]
     },
     "metadata": {},
     "output_type": "display_data"
    },
    {
     "data": {
      "application/vnd.jupyter.widget-view+json": {
       "model_id": "109f6c6a874842e18fb883d87c993ce2",
       "version_major": 2,
       "version_minor": 0
      },
      "text/plain": [
       "HTML(value='<h2>No images left to display in this folder.</h2>', layout=Layout(visibility='hidden'))"
      ]
     },
     "metadata": {},
     "output_type": "display_data"
    },
    {
     "data": {
      "application/vnd.jupyter.widget-view+json": {
       "model_id": "e15f4ee4acad4edebc2bb6611c6f37d9",
       "version_major": 2,
       "version_minor": 0
      },
      "text/plain": [
       "GridBox(children=(VBox(children=(Image(value=b'', layout=\"Layout(width='150px')\"), Button(description='Delete'…"
      ]
     },
     "metadata": {},
     "output_type": "display_data"
    }
   ],
   "source": [
    "from jmd_imagescraper.imagecleaner import *\n",
    "\n",
    "display_image_cleaner('C:/Users/young/Documents/GitHub/Dog-Breed-Classification/img/')"
   ]
  },
  {
   "cell_type": "code",
   "execution_count": 42,
   "id": "ac56fdb1",
   "metadata": {},
   "outputs": [
    {
     "data": {
      "text/plain": [
       "(#27772) [Path('C:/Users/young/Documents/GitHub/Dog-Breed-Classification/img/000_Chihuahua/127d6d5b-2708-493b-8868-31f7a8900f8b.jpg'),Path('C:/Users/young/Documents/GitHub/Dog-Breed-Classification/img/000_Chihuahua/14c1291d-2bd7-4309-a064-b03f94037901.jpg'),Path('C:/Users/young/Documents/GitHub/Dog-Breed-Classification/img/000_Chihuahua/19596b3c-732e-400b-a46f-35458ad6f0d3.jpg'),Path('C:/Users/young/Documents/GitHub/Dog-Breed-Classification/img/000_Chihuahua/19bdd90d-c48b-40ae-a675-c7794b4e2894.jpg'),Path('C:/Users/young/Documents/GitHub/Dog-Breed-Classification/img/000_Chihuahua/1bdda42a-a267-4243-ac51-321e7b9255c8.jpg'),Path('C:/Users/young/Documents/GitHub/Dog-Breed-Classification/img/000_Chihuahua/1e3fc9b9-6475-4b6f-b70d-569ebf5657b7.jpg'),Path('C:/Users/young/Documents/GitHub/Dog-Breed-Classification/img/000_Chihuahua/1f715f53-56b7-4bb4-8429-485864be29e6.jpg'),Path('C:/Users/young/Documents/GitHub/Dog-Breed-Classification/img/000_Chihuahua/200ce157-8856-41cb-bb97-29ac65b1f020.jpg'),Path('C:/Users/young/Documents/GitHub/Dog-Breed-Classification/img/000_Chihuahua/2070d001-6d02-4e8b-8f2d-1ef06446ec4f.jpg'),Path('C:/Users/young/Documents/GitHub/Dog-Breed-Classification/img/000_Chihuahua/22b2513f-5a30-453d-99af-1753c41ba0a6.jpg')...]"
      ]
     },
     "execution_count": 42,
     "metadata": {},
     "output_type": "execute_result"
    }
   ],
   "source": [
    "from fastbook import *\n",
    "from fastai.vision.widgets import *\n",
    "\n",
    "fns = get_image_files('C:/Users/young/Documents/GitHub/Dog-Breed-Classification/img/')\n",
    "fns"
   ]
  },
  {
   "cell_type": "code",
   "execution_count": 6,
   "id": "709e04c7",
   "metadata": {},
   "outputs": [
    {
     "data": {
      "text/plain": [
       "(#833) [Path('C:/Users/young/Documents/GitHub/Dog-Breed-Classification/img/002_Maltese_Dog/cc9c96bf-6d3a-4d31-bf9f-e77762aaee95.jpg'),Path('C:/Users/young/Documents/GitHub/Dog-Breed-Classification/img/003_Pekinese/5d168903-edb0-4f88-8ad2-149e3f6209cc.jpg'),Path('C:/Users/young/Documents/GitHub/Dog-Breed-Classification/img/003_Pekinese/a1a1401a-630b-4f96-99dc-00f164c8b3d5.jpg'),Path('C:/Users/young/Documents/GitHub/Dog-Breed-Classification/img/004_Shih-Tzu/229af696-f059-45ee-aef1-c5d07a5dc017.jpg'),Path('C:/Users/young/Documents/GitHub/Dog-Breed-Classification/img/004_Shih-Tzu/261dd025-290e-43fc-ae59-0d1c21370c35.jpg'),Path('C:/Users/young/Documents/GitHub/Dog-Breed-Classification/img/004_Shih-Tzu/8f3afa5b-4036-4ffc-a649-52e678d9b763.gif'),Path('C:/Users/young/Documents/GitHub/Dog-Breed-Classification/img/004_Shih-Tzu/a305c91a-196a-4af1-a9bc-a26b0ff9d278.jpg'),Path('C:/Users/young/Documents/GitHub/Dog-Breed-Classification/img/005_Blenheim_Spaniel/35f65b49-9f95-483f-98c5-a1bdca8f073d.JPG'),Path('C:/Users/young/Documents/GitHub/Dog-Breed-Classification/img/005_Blenheim_Spaniel/3f9f622c-138c-49c0-b7fe-27fc00abafa3.jpeg'),Path('C:/Users/young/Documents/GitHub/Dog-Breed-Classification/img/005_Blenheim_Spaniel/454c6211-12f5-4f2f-a4df-1f5529f451cb.jpg')...]"
      ]
     },
     "execution_count": 6,
     "metadata": {},
     "output_type": "execute_result"
    }
   ],
   "source": [
    "failed = verify_images(fns)\n",
    "failed"
   ]
  },
  {
   "cell_type": "code",
   "execution_count": 7,
   "id": "6d1af546",
   "metadata": {},
   "outputs": [
    {
     "data": {
      "text/plain": [
       "(#833) [None,None,None,None,None,None,None,None,None,None...]"
      ]
     },
     "execution_count": 7,
     "metadata": {},
     "output_type": "execute_result"
    }
   ],
   "source": [
    "failed.map(Path.unlink)"
   ]
  },
  {
   "cell_type": "code",
   "execution_count": 46,
   "id": "4e8d0aa2",
   "metadata": {},
   "outputs": [],
   "source": [
    "import os\n",
    "\n",
    "notjpg = []\n",
    "\n",
    "fns = get_image_files('C:/Users/young/Documents/GitHub/Dog-Breed-Classification/img/')\n",
    "\n",
    "for i in fns:\n",
    "    if os.path.splitext(i)[1] != '.jpg':\n",
    "        notjpg.append(i)"
   ]
  },
  {
   "cell_type": "code",
   "execution_count": 47,
   "id": "d2499b0d",
   "metadata": {},
   "outputs": [],
   "source": [
    "for i in notjpg:\n",
    "    os.remove(i)"
   ]
  },
  {
   "cell_type": "code",
   "execution_count": 48,
   "id": "be95ff99",
   "metadata": {},
   "outputs": [
    {
     "data": {
      "text/plain": [
       "[]"
      ]
     },
     "execution_count": 48,
     "metadata": {},
     "output_type": "execute_result"
    }
   ],
   "source": [
    "notjpg"
   ]
  },
  {
   "cell_type": "code",
   "execution_count": 66,
   "id": "97b18c45",
   "metadata": {},
   "outputs": [],
   "source": [
    "lowsize = []\n",
    "\n",
    "\n",
    "\n",
    "fns = get_image_files('C:/Users/young/Documents/GitHub/Dog-Breed-Classification/img/')\n",
    "\n",
    "for i in fns:\n",
    "    im = Image.open(i)\n",
    "    siz = im.size\n",
    "    \n",
    "    if siz[0] < 224 or siz[1] < 224:\n",
    "        lowsize.append(i)"
   ]
  },
  {
   "cell_type": "code",
   "execution_count": 67,
   "id": "61554ef2",
   "metadata": {},
   "outputs": [
    {
     "data": {
      "text/plain": [
       "[]"
      ]
     },
     "execution_count": 67,
     "metadata": {},
     "output_type": "execute_result"
    }
   ],
   "source": [
    "lowsize"
   ]
  },
  {
   "cell_type": "code",
   "execution_count": null,
   "id": "63273678",
   "metadata": {},
   "outputs": [],
   "source": []
  }
 ],
 "metadata": {
  "kernelspec": {
   "display_name": "Python 3 (ipykernel)",
   "language": "python",
   "name": "python3"
  },
  "language_info": {
   "codemirror_mode": {
    "name": "ipython",
    "version": 3
   },
   "file_extension": ".py",
   "mimetype": "text/x-python",
   "name": "python",
   "nbconvert_exporter": "python",
   "pygments_lexer": "ipython3",
   "version": "3.9.13"
  }
 },
 "nbformat": 4,
 "nbformat_minor": 5
}
