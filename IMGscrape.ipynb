{
 "cells": [
  {
   "cell_type": "code",
   "execution_count": null,
   "id": "2bedf440",
   "metadata": {
    "scrolled": true
   },
   "outputs": [],
   "source": [
    "!pip install jmd-imagescraper\n",
    "!pip install fastbook"
   ]
  },
  {
   "cell_type": "code",
   "execution_count": null,
   "id": "b3a177e8",
   "metadata": {},
   "outputs": [],
   "source": [
    "import pandas as pd\n",
    "\n",
    "label = pd.read_csv(\"C:\\\\Users\\\\young\\\\Documents\\\\GitHub\\Dog-Breed-Classification\\label.csv\")"
   ]
  },
  {
   "cell_type": "code",
   "execution_count": null,
   "id": "78c493e3",
   "metadata": {},
   "outputs": [],
   "source": [
    "import os\n",
    "\n",
    "for i in range(120):\n",
    "    ori = label.iloc[i, 1].split('_')[0]\n",
    "    new = label.iloc[i, 1]\n",
    "    os.rename(f\"C:/Users/young/Documents/GitHub/Dog-Breed-Classification/images/train/{ori}\", f\"C:/Users/young/Documents/GitHub/Dog-Breed-Classification/images/train/{new}\")\n",
    "    \n",
    "for i in range(120):\n",
    "    ori = label.iloc[i, 1].split('_')[0]\n",
    "    new = label.iloc[i, 1]\n",
    "    os.rename(f\"C:/Users/young/Documents/GitHub/Dog-Breed-Classification/images/test/{ori}\", f\"C:/Users/young/Documents/GitHub/Dog-Breed-Classification/images/test/{new}\")"
   ]
  },
  {
   "cell_type": "code",
   "execution_count": null,
   "id": "73ed8830",
   "metadata": {},
   "outputs": [],
   "source": [
    "key = []\n",
    "\n",
    "for i in label.iloc[:, 1]:\n",
    "    key.append(' '.join(i.split('_')[1:]))"
   ]
  },
  {
   "cell_type": "code",
   "execution_count": null,
   "id": "22d83d0a",
   "metadata": {},
   "outputs": [],
   "source": [
    "!pip install fastbook"
   ]
  },
  {
   "cell_type": "code",
   "execution_count": null,
   "id": "6dc9e62b",
   "metadata": {},
   "outputs": [],
   "source": [
    "from fastbook import *\n",
    "from fastai.vision.widgets import *\n",
    "from tqdm.auto import tqdm\n",
    "\n",
    "#download from duckduckgo\n",
    "def search_images_ddg(key, max_n=200):\n",
    "     \"\"\"Search for 'key' with DuckDuckGo and return a unique urls of 'max_n' images\n",
    "        (Adopted from https://github.com/deepanprabhu/duckduckgo-images-api)\n",
    "     \"\"\"\n",
    "     url        = 'https://duckduckgo.com/'\n",
    "     params     = {'q':key}\n",
    "     res        = requests.post(url,data=params)\n",
    "     searchObj  = re.search(r'vqd=([\\d-]+)\\&',res.text)\n",
    "     if not searchObj: print('Token Parsing Failed !'); return\n",
    "     requestUrl = url + 'i.js'\n",
    "     headers    = {'User-Agent': 'Mozilla/5.0 (X11; Ubuntu; Linux x86_64; rv:71.0) Gecko/20100101 Firefox/71.0'}\n",
    "     params     = (('l','us-en'),('o','json'),('q',key),('vqd',searchObj.group(1)),('f',',,,'),('p','1'),('v7exp','a'))\n",
    "     urls       = []\n",
    "     while True:\n",
    "         try:\n",
    "             res  = requests.get(requestUrl,headers=headers,params=params)\n",
    "             data = json.loads(res.text)\n",
    "             for obj in data['results']:\n",
    "                 urls.append(obj['image'])\n",
    "                 max_n = max_n - 1\n",
    "                 if max_n < 1: return L(set(urls))     # dedupe\n",
    "             if 'next' not in data: return L(set(urls))\n",
    "             requestUrl = url + data['next']\n",
    "         except:\n",
    "             pass"
   ]
  },
  {
   "cell_type": "code",
   "execution_count": null,
   "id": "0c82e644",
   "metadata": {},
   "outputs": [],
   "source": [
    "#save ไว้ที่ไหน\n",
    "path = Path('C:/Users/young/Documents/GitHub/Dog-Breed-Classification/img/')\n",
    "#เอารูปอะไรบ้าง (labels)\n",
    "labels = key\n",
    "#เอา label ละกี่รูป\n",
    "MAX_N = 300\n",
    "\n",
    "if not path.exists():\n",
    "    path.mkdir()\n",
    "    for l in tqdm(labels):\n",
    "        dest = (path/l)\n",
    "        dest.mkdir(exist_ok=True)\n",
    "        results = search_images_ddg(l, max_n=MAX_N)\n",
    "        download_images(dest, urls=results)\n",
    "     "
   ]
  },
  {
   "cell_type": "code",
   "execution_count": null,
   "id": "fc16b81b",
   "metadata": {},
   "outputs": [],
   "source": [
    "for i in range(120):\n",
    "    ori = ' '.join(label.iloc[i, 1].split('_')[1:])\n",
    "    new = label.iloc[i, 1]\n",
    "    os.rename(f\"C:/Users/young/Documents/GitHub/Dog-Breed-Classification/img/{ori}\", f\"C:/Users/young/Documents/GitHub/Dog-Breed-Classification/img/{new}\")"
   ]
  },
  {
   "cell_type": "code",
   "execution_count": null,
   "id": "ac56fdb1",
   "metadata": {},
   "outputs": [],
   "source": [
    "from fastbook import *\n",
    "from fastai.vision.widgets import *\n",
    "\n",
    "fns = get_image_files('C:/Users/young/Documents/GitHub/Dog-Breed-Classification/img/')\n",
    "fns"
   ]
  },
  {
   "cell_type": "code",
   "execution_count": null,
   "id": "709e04c7",
   "metadata": {},
   "outputs": [],
   "source": [
    "failed = verify_images(fns)\n",
    "failed"
   ]
  },
  {
   "cell_type": "code",
   "execution_count": null,
   "id": "6d1af546",
   "metadata": {},
   "outputs": [],
   "source": [
    "failed.map(Path.unlink)"
   ]
  },
  {
   "cell_type": "code",
   "execution_count": null,
   "id": "4e8d0aa2",
   "metadata": {},
   "outputs": [],
   "source": [
    "import os\n",
    "\n",
    "notjpg = []\n",
    "\n",
    "fns = get_image_files('C:/Users/young/Documents/GitHub/Dog-Breed-Classification/img/')\n",
    "\n",
    "for i in fns:\n",
    "    if os.path.splitext(i)[1] != '.jpg':\n",
    "        notjpg.append(i)"
   ]
  },
  {
   "cell_type": "code",
   "execution_count": null,
   "id": "d2499b0d",
   "metadata": {},
   "outputs": [],
   "source": [
    "for i in notjpg:\n",
    "    os.remove(i)"
   ]
  },
  {
   "cell_type": "code",
   "execution_count": null,
   "id": "97b18c45",
   "metadata": {},
   "outputs": [],
   "source": [
    "lowsize = []\n",
    "\n",
    "\n",
    "\n",
    "fns = get_image_files('C:/Users/young/Documents/GitHub/Dog-Breed-Classification/img/')\n",
    "\n",
    "for i in fns:\n",
    "    im = Image.open(i)\n",
    "    siz = im.size\n",
    "    \n",
    "    if siz[0] < 224 or siz[1] < 224:\n",
    "        lowsize.append(i)"
   ]
  }
 ],
 "metadata": {
  "kernelspec": {
   "display_name": "Python 3 (ipykernel)",
   "language": "python",
   "name": "python3"
  },
  "language_info": {
   "codemirror_mode": {
    "name": "ipython",
    "version": 3
   },
   "file_extension": ".py",
   "mimetype": "text/x-python",
   "name": "python",
   "nbconvert_exporter": "python",
   "pygments_lexer": "ipython3",
   "version": "3.9.13"
  }
 },
 "nbformat": 4,
 "nbformat_minor": 5
}
