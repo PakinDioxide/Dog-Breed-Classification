{
 "cells": [
  {
   "cell_type": "code",
   "execution_count": null,
   "id": "76292682",
   "metadata": {
    "scrolled": false
   },
   "outputs": [],
   "source": [
    "pip install difPy"
   ]
  },
  {
   "cell_type": "code",
   "execution_count": 2,
   "id": "4c88b0b2",
   "metadata": {},
   "outputs": [],
   "source": [
    "from difPy import dif"
   ]
  },
  {
   "cell_type": "code",
   "execution_count": 4,
   "id": "6b170ef6",
   "metadata": {},
   "outputs": [],
   "source": [
    "from PIL import Image"
   ]
  },
  {
   "cell_type": "code",
   "execution_count": null,
   "id": "0fa958b9",
   "metadata": {},
   "outputs": [],
   "source": [
    "import os\n",
    "\n",
    "label = os.listdir(\"C:/Users/young/Documents/GitHub/Dog-Breed-Classification/images/train/\")\n",
    "\n",
    "for i in label:\n",
    "\n",
    "    search = dif(f\"C:/Users/young/Documents/GitHub/Dog-Breed-Classification/images/train/{i}\", f\"C:/Users/young/Documents/GitHub/Dog-Breed-Classification/images/test/{i}\")\n",
    "\n",
    "    dimages = search.lower_quality\n",
    "\n",
    "    for i in dimages:\n",
    "        os.remove(i)\n",
    "        print(i)"
   ]
  }
 ],
 "metadata": {
  "kernelspec": {
   "display_name": "Python 3 (ipykernel)",
   "language": "python",
   "name": "python3"
  },
  "language_info": {
   "codemirror_mode": {
    "name": "ipython",
    "version": 3
   },
   "file_extension": ".py",
   "mimetype": "text/x-python",
   "name": "python",
   "nbconvert_exporter": "python",
   "pygments_lexer": "ipython3",
   "version": "3.9.13"
  }
 },
 "nbformat": 4,
 "nbformat_minor": 5
}
